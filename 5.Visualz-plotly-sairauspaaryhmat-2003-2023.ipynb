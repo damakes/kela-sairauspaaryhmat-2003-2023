{
 "cells": [
  {
   "cell_type": "markdown",
   "metadata": {},
   "source": [
    "# ***5.Visualz-plotly-sairauspaaryhmat-2003-2023***\n",
    "merge/merge1&_avoin-data_suomen_työkyvyttömyyseläkkeensaajat_2003-2023_merge.csv"
   ]
  },
  {
   "cell_type": "code",
   "execution_count": 384,
   "metadata": {},
   "outputs": [],
   "source": [
    "import pandas as pd\n",
    "import plotly.express as px\n",
    "import plotly.io as pio"
   ]
  },
  {
   "cell_type": "code",
   "execution_count": 385,
   "metadata": {},
   "outputs": [
    {
     "data": {
      "text/plain": [
       "array(['I00-I99 Verenkiertoelinten sairaudet',\n",
       "       'M00-M99 Tuki- ja liikuntael. sekä sidekudoksen sair.',\n",
       "       'F00-F99 Mielenterveyden ja käyttäytymisen häiriöt', 'Yhteensä',\n",
       "       'Tieto puuttuu',\n",
       "       'Q00-Q99 Synnynn. epämuod. ja kromosomipoikkeavuudet',\n",
       "       'L00-L99 Ihon ja ihonalaiskudoksen sairaudet',\n",
       "       'J00-J99 Hengityselinten sairaudet',\n",
       "       'S00-T99 Vammat, myrkytykset ja muut ulk. syiden seur.',\n",
       "       'G00-G99 Hermoston sairaudet', 'C00-D49 Kasvaimet',\n",
       "       'E00-E99 Umpieritys-, ravitsemus- ja aineenvaihduntasair.',\n",
       "       'K00-K99 Ruoansulatuselinten sairaudet',\n",
       "       'N00-N99 Virtsa- ja sukupuolielinten sairaudet',\n",
       "       'H00-H59 Silmän ja sen apuelinten sairaudet',\n",
       "       'H60-H99 Korvan ja kartiolisäkkeen sairaudet',\n",
       "       'A00-B99 Tartunta- ja loistaudit',\n",
       "       'Muut pääryhmät (XV,XVI,XVIII,XX)',\n",
       "       'D50-D99 Veren ja vertamuodostavien elinten sairaudet'],\n",
       "      dtype=object)"
      ]
     },
     "execution_count": 385,
     "metadata": {},
     "output_type": "execute_result"
    }
   ],
   "source": [
    "df = pd.read_csv(\"merge/merge1&_avoin-data_suomen_työkyvyttömyyseläkkeensaajat_2003-2023_merge.csv\")\n",
    "df.sairauspaaryhma.unique()"
   ]
  },
  {
   "cell_type": "code",
   "execution_count": 386,
   "metadata": {},
   "outputs": [],
   "source": [
    "df = df[(df['sairauspaaryhma'] != 'Yhteensä') & (df['sairauspaaryhma'] != 'Tieto puuttuu')] # & (df['vuosi'] == 2019)]"
   ]
  },
  {
   "cell_type": "code",
   "execution_count": 387,
   "metadata": {},
   "outputs": [],
   "source": [
    "all_locations = df.groupby('Maakunta').agg(\n",
    "    saaja_lkm=('saaja_lkm', 'count'),\n",
    "    saaja_lkm_mies=('sukupuoli', lambda x: (x == 'Mies').sum()),\n",
    "    saaja_lkm_nainen=('sukupuoli', lambda x: (x == 'Nainen').sum()),\n",
    "    saaja_lkm_muu=('sukupuoli', lambda x: ((x != 'Mies') & (x != 'Nainen')).sum())\n",
    ").reset_index()"
   ]
  },
  {
   "cell_type": "code",
   "execution_count": 388,
   "metadata": {},
   "outputs": [
    {
     "data": {
      "application/vnd.plotly.v1+json": {
       "config": {
        "plotlyServerURL": "https://plot.ly"
       },
       "data": [
        {
         "alignmentgroup": "True",
         "customdata": [
          [
           3742,
           1220,
           1312,
           1210
          ],
          [
           15118,
           7250,
           5842,
           2026
          ],
          [
           29574,
           13822,
           11884,
           3868
          ],
          [
           20092,
           9696,
           7748,
           2648
          ],
          [
           14362,
           6882,
           5538,
           1942
          ],
          [
           21110,
           9838,
           8534,
           2738
          ],
          [
           9628,
           4434,
           3736,
           1458
          ],
          [
           33466,
           15766,
           13224,
           4476
          ],
          [
           15266,
           7252,
           6490,
           1524
          ],
          [
           31816,
           15364,
           12060,
           4392
          ],
          [
           45602,
           21144,
           18782,
           5676
          ],
          [
           21478,
           9618,
           8914,
           2946
          ],
          [
           26020,
           12606,
           10060,
           3354
          ],
          [
           50494,
           24136,
           20018,
           6340
          ],
          [
           35318,
           17094,
           13992,
           4232
          ],
          [
           21106,
           10016,
           8596,
           2494
          ],
          [
           28886,
           13526,
           11672,
           3688
          ],
          [
           72596,
           34020,
           32144,
           6432
          ],
          [
           46116,
           21366,
           19448,
           5302
          ]
         ],
         "hovertemplate": "<b>%{x}</b><br><i>Yhteensä: %{customdata[0]}</i><br><i>Miehet: %{customdata[1]}</i><br><i>Naiset: %{customdata[2]}</i><br><i>Muu: %{customdata[3]}</i><extra></extra>",
         "legendgroup": "",
         "marker": {
          "color": [
           3742,
           15118,
           29574,
           20092,
           14362,
           21110,
           9628,
           33466,
           15266,
           31816,
           45602,
           21478,
           26020,
           50494,
           35318,
           21106,
           28886,
           72596,
           46116
          ],
          "coloraxis": "coloraxis",
          "pattern": {
           "shape": ""
          }
         },
         "name": "",
         "offsetgroup": "",
         "orientation": "v",
         "showlegend": false,
         "textposition": "auto",
         "type": "bar",
         "x": [
          "Ahvenanmaa",
          "Etelä-Karjala",
          "Etelä-Pohjanmaa",
          "Etelä-Savo",
          "Kainuu",
          "Kanta-Häme",
          "Keski-Pohjanmaa",
          "Keski-Suomi",
          "Kymenlaakso",
          "Lappi",
          "Pirkanmaa",
          "Pohjanmaa",
          "Pohjois-Karjala",
          "Pohjois-Pohjanmaa",
          "Pohjois-Savo",
          "Päijät-Häme",
          "Satakunta",
          "Uusimaa",
          "Varsinais-Suomi"
         ],
         "xaxis": "x",
         "y": [
          3742,
          15118,
          29574,
          20092,
          14362,
          21110,
          9628,
          33466,
          15266,
          31816,
          45602,
          21478,
          26020,
          50494,
          35318,
          21106,
          28886,
          72596,
          46116
         ],
         "yaxis": "y"
        }
       ],
       "layout": {
        "barmode": "relative",
        "coloraxis": {
         "colorbar": {
          "title": {
           "text": "LKM"
          }
         },
         "colorscale": [
          [
           0,
           "#0d0887"
          ],
          [
           0.1111111111111111,
           "#46039f"
          ],
          [
           0.2222222222222222,
           "#7201a8"
          ],
          [
           0.3333333333333333,
           "#9c179e"
          ],
          [
           0.4444444444444444,
           "#bd3786"
          ],
          [
           0.5555555555555556,
           "#d8576b"
          ],
          [
           0.6666666666666666,
           "#ed7953"
          ],
          [
           0.7777777777777778,
           "#fb9f3a"
          ],
          [
           0.8888888888888888,
           "#fdca26"
          ],
          [
           1,
           "#f0f921"
          ]
         ]
        },
        "hoverlabel": {
         "align": "right"
        },
        "legend": {
         "tracegroupgap": 0
        },
        "margin": {
         "t": 60
        },
        "template": {
         "data": {
          "bar": [
           {
            "error_x": {
             "color": "#2a3f5f"
            },
            "error_y": {
             "color": "#2a3f5f"
            },
            "marker": {
             "line": {
              "color": "#E5ECF6",
              "width": 0.5
             },
             "pattern": {
              "fillmode": "overlay",
              "size": 10,
              "solidity": 0.2
             }
            },
            "type": "bar"
           }
          ],
          "barpolar": [
           {
            "marker": {
             "line": {
              "color": "#E5ECF6",
              "width": 0.5
             },
             "pattern": {
              "fillmode": "overlay",
              "size": 10,
              "solidity": 0.2
             }
            },
            "type": "barpolar"
           }
          ],
          "carpet": [
           {
            "aaxis": {
             "endlinecolor": "#2a3f5f",
             "gridcolor": "white",
             "linecolor": "white",
             "minorgridcolor": "white",
             "startlinecolor": "#2a3f5f"
            },
            "baxis": {
             "endlinecolor": "#2a3f5f",
             "gridcolor": "white",
             "linecolor": "white",
             "minorgridcolor": "white",
             "startlinecolor": "#2a3f5f"
            },
            "type": "carpet"
           }
          ],
          "choropleth": [
           {
            "colorbar": {
             "outlinewidth": 0,
             "ticks": ""
            },
            "type": "choropleth"
           }
          ],
          "contour": [
           {
            "colorbar": {
             "outlinewidth": 0,
             "ticks": ""
            },
            "colorscale": [
             [
              0,
              "#0d0887"
             ],
             [
              0.1111111111111111,
              "#46039f"
             ],
             [
              0.2222222222222222,
              "#7201a8"
             ],
             [
              0.3333333333333333,
              "#9c179e"
             ],
             [
              0.4444444444444444,
              "#bd3786"
             ],
             [
              0.5555555555555556,
              "#d8576b"
             ],
             [
              0.6666666666666666,
              "#ed7953"
             ],
             [
              0.7777777777777778,
              "#fb9f3a"
             ],
             [
              0.8888888888888888,
              "#fdca26"
             ],
             [
              1,
              "#f0f921"
             ]
            ],
            "type": "contour"
           }
          ],
          "contourcarpet": [
           {
            "colorbar": {
             "outlinewidth": 0,
             "ticks": ""
            },
            "type": "contourcarpet"
           }
          ],
          "heatmap": [
           {
            "colorbar": {
             "outlinewidth": 0,
             "ticks": ""
            },
            "colorscale": [
             [
              0,
              "#0d0887"
             ],
             [
              0.1111111111111111,
              "#46039f"
             ],
             [
              0.2222222222222222,
              "#7201a8"
             ],
             [
              0.3333333333333333,
              "#9c179e"
             ],
             [
              0.4444444444444444,
              "#bd3786"
             ],
             [
              0.5555555555555556,
              "#d8576b"
             ],
             [
              0.6666666666666666,
              "#ed7953"
             ],
             [
              0.7777777777777778,
              "#fb9f3a"
             ],
             [
              0.8888888888888888,
              "#fdca26"
             ],
             [
              1,
              "#f0f921"
             ]
            ],
            "type": "heatmap"
           }
          ],
          "heatmapgl": [
           {
            "colorbar": {
             "outlinewidth": 0,
             "ticks": ""
            },
            "colorscale": [
             [
              0,
              "#0d0887"
             ],
             [
              0.1111111111111111,
              "#46039f"
             ],
             [
              0.2222222222222222,
              "#7201a8"
             ],
             [
              0.3333333333333333,
              "#9c179e"
             ],
             [
              0.4444444444444444,
              "#bd3786"
             ],
             [
              0.5555555555555556,
              "#d8576b"
             ],
             [
              0.6666666666666666,
              "#ed7953"
             ],
             [
              0.7777777777777778,
              "#fb9f3a"
             ],
             [
              0.8888888888888888,
              "#fdca26"
             ],
             [
              1,
              "#f0f921"
             ]
            ],
            "type": "heatmapgl"
           }
          ],
          "histogram": [
           {
            "marker": {
             "pattern": {
              "fillmode": "overlay",
              "size": 10,
              "solidity": 0.2
             }
            },
            "type": "histogram"
           }
          ],
          "histogram2d": [
           {
            "colorbar": {
             "outlinewidth": 0,
             "ticks": ""
            },
            "colorscale": [
             [
              0,
              "#0d0887"
             ],
             [
              0.1111111111111111,
              "#46039f"
             ],
             [
              0.2222222222222222,
              "#7201a8"
             ],
             [
              0.3333333333333333,
              "#9c179e"
             ],
             [
              0.4444444444444444,
              "#bd3786"
             ],
             [
              0.5555555555555556,
              "#d8576b"
             ],
             [
              0.6666666666666666,
              "#ed7953"
             ],
             [
              0.7777777777777778,
              "#fb9f3a"
             ],
             [
              0.8888888888888888,
              "#fdca26"
             ],
             [
              1,
              "#f0f921"
             ]
            ],
            "type": "histogram2d"
           }
          ],
          "histogram2dcontour": [
           {
            "colorbar": {
             "outlinewidth": 0,
             "ticks": ""
            },
            "colorscale": [
             [
              0,
              "#0d0887"
             ],
             [
              0.1111111111111111,
              "#46039f"
             ],
             [
              0.2222222222222222,
              "#7201a8"
             ],
             [
              0.3333333333333333,
              "#9c179e"
             ],
             [
              0.4444444444444444,
              "#bd3786"
             ],
             [
              0.5555555555555556,
              "#d8576b"
             ],
             [
              0.6666666666666666,
              "#ed7953"
             ],
             [
              0.7777777777777778,
              "#fb9f3a"
             ],
             [
              0.8888888888888888,
              "#fdca26"
             ],
             [
              1,
              "#f0f921"
             ]
            ],
            "type": "histogram2dcontour"
           }
          ],
          "mesh3d": [
           {
            "colorbar": {
             "outlinewidth": 0,
             "ticks": ""
            },
            "type": "mesh3d"
           }
          ],
          "parcoords": [
           {
            "line": {
             "colorbar": {
              "outlinewidth": 0,
              "ticks": ""
             }
            },
            "type": "parcoords"
           }
          ],
          "pie": [
           {
            "automargin": true,
            "type": "pie"
           }
          ],
          "scatter": [
           {
            "fillpattern": {
             "fillmode": "overlay",
             "size": 10,
             "solidity": 0.2
            },
            "type": "scatter"
           }
          ],
          "scatter3d": [
           {
            "line": {
             "colorbar": {
              "outlinewidth": 0,
              "ticks": ""
             }
            },
            "marker": {
             "colorbar": {
              "outlinewidth": 0,
              "ticks": ""
             }
            },
            "type": "scatter3d"
           }
          ],
          "scattercarpet": [
           {
            "marker": {
             "colorbar": {
              "outlinewidth": 0,
              "ticks": ""
             }
            },
            "type": "scattercarpet"
           }
          ],
          "scattergeo": [
           {
            "marker": {
             "colorbar": {
              "outlinewidth": 0,
              "ticks": ""
             }
            },
            "type": "scattergeo"
           }
          ],
          "scattergl": [
           {
            "marker": {
             "colorbar": {
              "outlinewidth": 0,
              "ticks": ""
             }
            },
            "type": "scattergl"
           }
          ],
          "scattermapbox": [
           {
            "marker": {
             "colorbar": {
              "outlinewidth": 0,
              "ticks": ""
             }
            },
            "type": "scattermapbox"
           }
          ],
          "scatterpolar": [
           {
            "marker": {
             "colorbar": {
              "outlinewidth": 0,
              "ticks": ""
             }
            },
            "type": "scatterpolar"
           }
          ],
          "scatterpolargl": [
           {
            "marker": {
             "colorbar": {
              "outlinewidth": 0,
              "ticks": ""
             }
            },
            "type": "scatterpolargl"
           }
          ],
          "scatterternary": [
           {
            "marker": {
             "colorbar": {
              "outlinewidth": 0,
              "ticks": ""
             }
            },
            "type": "scatterternary"
           }
          ],
          "surface": [
           {
            "colorbar": {
             "outlinewidth": 0,
             "ticks": ""
            },
            "colorscale": [
             [
              0,
              "#0d0887"
             ],
             [
              0.1111111111111111,
              "#46039f"
             ],
             [
              0.2222222222222222,
              "#7201a8"
             ],
             [
              0.3333333333333333,
              "#9c179e"
             ],
             [
              0.4444444444444444,
              "#bd3786"
             ],
             [
              0.5555555555555556,
              "#d8576b"
             ],
             [
              0.6666666666666666,
              "#ed7953"
             ],
             [
              0.7777777777777778,
              "#fb9f3a"
             ],
             [
              0.8888888888888888,
              "#fdca26"
             ],
             [
              1,
              "#f0f921"
             ]
            ],
            "type": "surface"
           }
          ],
          "table": [
           {
            "cells": {
             "fill": {
              "color": "#EBF0F8"
             },
             "line": {
              "color": "white"
             }
            },
            "header": {
             "fill": {
              "color": "#C8D4E3"
             },
             "line": {
              "color": "white"
             }
            },
            "type": "table"
           }
          ]
         },
         "layout": {
          "annotationdefaults": {
           "arrowcolor": "#2a3f5f",
           "arrowhead": 0,
           "arrowwidth": 1
          },
          "autotypenumbers": "strict",
          "coloraxis": {
           "colorbar": {
            "outlinewidth": 0,
            "ticks": ""
           }
          },
          "colorscale": {
           "diverging": [
            [
             0,
             "#8e0152"
            ],
            [
             0.1,
             "#c51b7d"
            ],
            [
             0.2,
             "#de77ae"
            ],
            [
             0.3,
             "#f1b6da"
            ],
            [
             0.4,
             "#fde0ef"
            ],
            [
             0.5,
             "#f7f7f7"
            ],
            [
             0.6,
             "#e6f5d0"
            ],
            [
             0.7,
             "#b8e186"
            ],
            [
             0.8,
             "#7fbc41"
            ],
            [
             0.9,
             "#4d9221"
            ],
            [
             1,
             "#276419"
            ]
           ],
           "sequential": [
            [
             0,
             "#0d0887"
            ],
            [
             0.1111111111111111,
             "#46039f"
            ],
            [
             0.2222222222222222,
             "#7201a8"
            ],
            [
             0.3333333333333333,
             "#9c179e"
            ],
            [
             0.4444444444444444,
             "#bd3786"
            ],
            [
             0.5555555555555556,
             "#d8576b"
            ],
            [
             0.6666666666666666,
             "#ed7953"
            ],
            [
             0.7777777777777778,
             "#fb9f3a"
            ],
            [
             0.8888888888888888,
             "#fdca26"
            ],
            [
             1,
             "#f0f921"
            ]
           ],
           "sequentialminus": [
            [
             0,
             "#0d0887"
            ],
            [
             0.1111111111111111,
             "#46039f"
            ],
            [
             0.2222222222222222,
             "#7201a8"
            ],
            [
             0.3333333333333333,
             "#9c179e"
            ],
            [
             0.4444444444444444,
             "#bd3786"
            ],
            [
             0.5555555555555556,
             "#d8576b"
            ],
            [
             0.6666666666666666,
             "#ed7953"
            ],
            [
             0.7777777777777778,
             "#fb9f3a"
            ],
            [
             0.8888888888888888,
             "#fdca26"
            ],
            [
             1,
             "#f0f921"
            ]
           ]
          },
          "colorway": [
           "#636efa",
           "#EF553B",
           "#00cc96",
           "#ab63fa",
           "#FFA15A",
           "#19d3f3",
           "#FF6692",
           "#B6E880",
           "#FF97FF",
           "#FECB52"
          ],
          "font": {
           "color": "#2a3f5f"
          },
          "geo": {
           "bgcolor": "white",
           "lakecolor": "white",
           "landcolor": "#E5ECF6",
           "showlakes": true,
           "showland": true,
           "subunitcolor": "white"
          },
          "hoverlabel": {
           "align": "left"
          },
          "hovermode": "closest",
          "mapbox": {
           "style": "light"
          },
          "paper_bgcolor": "white",
          "plot_bgcolor": "#E5ECF6",
          "polar": {
           "angularaxis": {
            "gridcolor": "white",
            "linecolor": "white",
            "ticks": ""
           },
           "bgcolor": "#E5ECF6",
           "radialaxis": {
            "gridcolor": "white",
            "linecolor": "white",
            "ticks": ""
           }
          },
          "scene": {
           "xaxis": {
            "backgroundcolor": "#E5ECF6",
            "gridcolor": "white",
            "gridwidth": 2,
            "linecolor": "white",
            "showbackground": true,
            "ticks": "",
            "zerolinecolor": "white"
           },
           "yaxis": {
            "backgroundcolor": "#E5ECF6",
            "gridcolor": "white",
            "gridwidth": 2,
            "linecolor": "white",
            "showbackground": true,
            "ticks": "",
            "zerolinecolor": "white"
           },
           "zaxis": {
            "backgroundcolor": "#E5ECF6",
            "gridcolor": "white",
            "gridwidth": 2,
            "linecolor": "white",
            "showbackground": true,
            "ticks": "",
            "zerolinecolor": "white"
           }
          },
          "shapedefaults": {
           "line": {
            "color": "#2a3f5f"
           }
          },
          "ternary": {
           "aaxis": {
            "gridcolor": "white",
            "linecolor": "white",
            "ticks": ""
           },
           "baxis": {
            "gridcolor": "white",
            "linecolor": "white",
            "ticks": ""
           },
           "bgcolor": "#E5ECF6",
           "caxis": {
            "gridcolor": "white",
            "linecolor": "white",
            "ticks": ""
           }
          },
          "title": {
           "x": 0.05
          },
          "xaxis": {
           "automargin": true,
           "gridcolor": "white",
           "linecolor": "white",
           "ticks": "",
           "title": {
            "standoff": 15
           },
           "zerolinecolor": "white",
           "zerolinewidth": 2
          },
          "yaxis": {
           "automargin": true,
           "gridcolor": "white",
           "linecolor": "white",
           "ticks": "",
           "title": {
            "standoff": 15
           },
           "zerolinecolor": "white",
           "zerolinewidth": 2
          }
         }
        },
        "title": {
         "text": "<b>2003-2023, Työkyvyttömyyseläkkeensaajat yhteensä maakunnittain</b>"
        },
        "xaxis": {
         "anchor": "y",
         "domain": [
          0,
          1
         ],
         "title": {
          "text": "Maakunta"
         }
        },
        "yaxis": {
         "anchor": "x",
         "domain": [
          0,
          1
         ],
         "title": {
          "text": "LKM"
         }
        }
       }
      }
     },
     "metadata": {},
     "output_type": "display_data"
    }
   ],
   "source": [
    "fig1 = px.bar(\n",
    "    all_locations, \n",
    "    x='Maakunta', \n",
    "    y='saaja_lkm',\n",
    "    color='saaja_lkm',\n",
    "    labels={'saaja_lkm': 'LKM', 'Maakunta': 'Maakunta'},\n",
    ")\n",
    "\n",
    "fig1.update_traces(\n",
    "    customdata=all_locations[['saaja_lkm','saaja_lkm_mies', 'saaja_lkm_nainen', 'saaja_lkm_muu']],\n",
    "    hovertemplate='<b>%{x}</b><br>' +\n",
    "                  '<i>Yhteensä: %{customdata[0]}</i><br>' +\n",
    "                  '<i>Miehet: %{customdata[1]}</i><br>' +\n",
    "                  '<i>Naiset: %{customdata[2]}</i><br>' +\n",
    "                  '<i>Muu: %{customdata[3]}</i><extra></extra>'\n",
    ")\n",
    "\n",
    "fig1.update_layout(\n",
    "    hoverlabel_align = 'right',\n",
    "    title='<b>2003-2023, Työkyvyttömyyseläkkeensaajat yhteensä maakunnittain</b>'\n",
    "    )\n",
    "\n",
    "fig1.show()\n",
    "pio.write_html(fig1, file='maakunta_sairaspaaryhmat_yhteensa.html', auto_open=False)"
   ]
  },
  {
   "cell_type": "code",
   "execution_count": 389,
   "metadata": {},
   "outputs": [
    {
     "data": {
      "application/vnd.plotly.v1+json": {
       "config": {
        "plotlyServerURL": "https://plot.ly"
       },
       "data": [
        {
         "alignmentgroup": "True",
         "customdata": [
          [
           3742,
           1220,
           1312,
           1210
          ],
          [
           15118,
           7250,
           5842,
           2026
          ],
          [
           29574,
           13822,
           11884,
           3868
          ],
          [
           20092,
           9696,
           7748,
           2648
          ],
          [
           14362,
           6882,
           5538,
           1942
          ],
          [
           21110,
           9838,
           8534,
           2738
          ],
          [
           9628,
           4434,
           3736,
           1458
          ],
          [
           33466,
           15766,
           13224,
           4476
          ],
          [
           15266,
           7252,
           6490,
           1524
          ],
          [
           31816,
           15364,
           12060,
           4392
          ],
          [
           45602,
           21144,
           18782,
           5676
          ],
          [
           21478,
           9618,
           8914,
           2946
          ],
          [
           26020,
           12606,
           10060,
           3354
          ],
          [
           50494,
           24136,
           20018,
           6340
          ],
          [
           35318,
           17094,
           13992,
           4232
          ],
          [
           21106,
           10016,
           8596,
           2494
          ],
          [
           28886,
           13526,
           11672,
           3688
          ],
          [
           72596,
           34020,
           32144,
           6432
          ],
          [
           46116,
           21366,
           19448,
           5302
          ]
         ],
         "hovertemplate": "<b>%{y}</b><br><i>Yhteensä: %{customdata[0]}</i><br><i>Miehet: %{customdata[1]}</i><br><i>Naiset: %{customdata[2]}</i><br><i>Muu: %{customdata[3]}</i><extra></extra>",
         "legendgroup": "A00-B99 Tartunta- ja loistaudit",
         "marker": {
          "color": "#636efa",
          "pattern": {
           "shape": ""
          }
         },
         "name": "A00-B99 Tartunta- ja loistaudit",
         "offsetgroup": "A00-B99 Tartunta- ja loistaudit",
         "orientation": "h",
         "showlegend": true,
         "textposition": "auto",
         "type": "bar",
         "x": [
          4,
          60,
          100,
          94,
          72,
          92,
          42,
          122,
          134,
          116,
          368,
          72,
          118,
          182,
          96,
          128,
          130,
          946,
          272
         ],
         "xaxis": "x",
         "y": [
          "Ahvenanmaa",
          "Etelä-Karjala",
          "Etelä-Pohjanmaa",
          "Etelä-Savo",
          "Kainuu",
          "Kanta-Häme",
          "Keski-Pohjanmaa",
          "Keski-Suomi",
          "Kymenlaakso",
          "Lappi",
          "Pirkanmaa",
          "Pohjanmaa",
          "Pohjois-Karjala",
          "Pohjois-Pohjanmaa",
          "Pohjois-Savo",
          "Päijät-Häme",
          "Satakunta",
          "Uusimaa",
          "Varsinais-Suomi"
         ],
         "yaxis": "y"
        },
        {
         "alignmentgroup": "True",
         "customdata": [
          [
           3742,
           1220,
           1312,
           1210
          ],
          [
           15118,
           7250,
           5842,
           2026
          ],
          [
           29574,
           13822,
           11884,
           3868
          ],
          [
           20092,
           9696,
           7748,
           2648
          ],
          [
           14362,
           6882,
           5538,
           1942
          ],
          [
           21110,
           9838,
           8534,
           2738
          ],
          [
           9628,
           4434,
           3736,
           1458
          ],
          [
           33466,
           15766,
           13224,
           4476
          ],
          [
           15266,
           7252,
           6490,
           1524
          ],
          [
           31816,
           15364,
           12060,
           4392
          ],
          [
           45602,
           21144,
           18782,
           5676
          ],
          [
           21478,
           9618,
           8914,
           2946
          ],
          [
           26020,
           12606,
           10060,
           3354
          ],
          [
           50494,
           24136,
           20018,
           6340
          ],
          [
           35318,
           17094,
           13992,
           4232
          ],
          [
           21106,
           10016,
           8596,
           2494
          ],
          [
           28886,
           13526,
           11672,
           3688
          ],
          [
           72596,
           34020,
           32144,
           6432
          ],
          [
           46116,
           21366,
           19448,
           5302
          ]
         ],
         "hovertemplate": "<b>%{y}</b><br><i>Yhteensä: %{customdata[0]}</i><br><i>Miehet: %{customdata[1]}</i><br><i>Naiset: %{customdata[2]}</i><br><i>Muu: %{customdata[3]}</i><extra></extra>",
         "legendgroup": "C00-D49 Kasvaimet",
         "marker": {
          "color": "#EF553B",
          "pattern": {
           "shape": ""
          }
         },
         "name": "C00-D49 Kasvaimet",
         "offsetgroup": "C00-D49 Kasvaimet",
         "orientation": "h",
         "showlegend": true,
         "textposition": "auto",
         "type": "bar",
         "x": [
          124,
          688,
          1278,
          944,
          682,
          1204,
          418,
          1338,
          868,
          1348,
          2484,
          1144,
          1086,
          2270,
          1624,
          1142,
          1348,
          4542,
          2534
         ],
         "xaxis": "x",
         "y": [
          "Ahvenanmaa",
          "Etelä-Karjala",
          "Etelä-Pohjanmaa",
          "Etelä-Savo",
          "Kainuu",
          "Kanta-Häme",
          "Keski-Pohjanmaa",
          "Keski-Suomi",
          "Kymenlaakso",
          "Lappi",
          "Pirkanmaa",
          "Pohjanmaa",
          "Pohjois-Karjala",
          "Pohjois-Pohjanmaa",
          "Pohjois-Savo",
          "Päijät-Häme",
          "Satakunta",
          "Uusimaa",
          "Varsinais-Suomi"
         ],
         "yaxis": "y"
        },
        {
         "alignmentgroup": "True",
         "customdata": [
          [
           3742,
           1220,
           1312,
           1210
          ],
          [
           15118,
           7250,
           5842,
           2026
          ],
          [
           29574,
           13822,
           11884,
           3868
          ],
          [
           20092,
           9696,
           7748,
           2648
          ],
          [
           14362,
           6882,
           5538,
           1942
          ],
          [
           21110,
           9838,
           8534,
           2738
          ],
          [
           9628,
           4434,
           3736,
           1458
          ],
          [
           33466,
           15766,
           13224,
           4476
          ],
          [
           15266,
           7252,
           6490,
           1524
          ],
          [
           31816,
           15364,
           12060,
           4392
          ],
          [
           45602,
           21144,
           18782,
           5676
          ],
          [
           21478,
           9618,
           8914,
           2946
          ],
          [
           26020,
           12606,
           10060,
           3354
          ],
          [
           50494,
           24136,
           20018,
           6340
          ],
          [
           35318,
           17094,
           13992,
           4232
          ],
          [
           21106,
           10016,
           8596,
           2494
          ],
          [
           28886,
           13526,
           11672,
           3688
          ],
          [
           72596,
           34020,
           32144,
           6432
          ],
          [
           46116,
           21366,
           19448,
           5302
          ]
         ],
         "hovertemplate": "<b>%{y}</b><br><i>Yhteensä: %{customdata[0]}</i><br><i>Miehet: %{customdata[1]}</i><br><i>Naiset: %{customdata[2]}</i><br><i>Muu: %{customdata[3]}</i><extra></extra>",
         "legendgroup": "E00-E99 Umpieritys-, ravitsemus- ja aineenvaihduntasair.",
         "marker": {
          "color": "#00cc96",
          "pattern": {
           "shape": ""
          }
         },
         "name": "E00-E99 Umpieritys-, ravitsemus- ja aineenvaihduntasair.",
         "offsetgroup": "E00-E99 Umpieritys-, ravitsemus- ja aineenvaihduntasair.",
         "orientation": "h",
         "showlegend": true,
         "textposition": "auto",
         "type": "bar",
         "x": [
          44,
          606,
          1020,
          680,
          514,
          792,
          252,
          1022,
          690,
          868,
          1594,
          588,
          864,
          1470,
          1102,
          802,
          1084,
          3318,
          1570
         ],
         "xaxis": "x",
         "y": [
          "Ahvenanmaa",
          "Etelä-Karjala",
          "Etelä-Pohjanmaa",
          "Etelä-Savo",
          "Kainuu",
          "Kanta-Häme",
          "Keski-Pohjanmaa",
          "Keski-Suomi",
          "Kymenlaakso",
          "Lappi",
          "Pirkanmaa",
          "Pohjanmaa",
          "Pohjois-Karjala",
          "Pohjois-Pohjanmaa",
          "Pohjois-Savo",
          "Päijät-Häme",
          "Satakunta",
          "Uusimaa",
          "Varsinais-Suomi"
         ],
         "yaxis": "y"
        },
        {
         "alignmentgroup": "True",
         "customdata": [
          [
           3742,
           1220,
           1312,
           1210
          ],
          [
           15118,
           7250,
           5842,
           2026
          ],
          [
           29574,
           13822,
           11884,
           3868
          ],
          [
           20092,
           9696,
           7748,
           2648
          ],
          [
           14362,
           6882,
           5538,
           1942
          ],
          [
           21110,
           9838,
           8534,
           2738
          ],
          [
           9628,
           4434,
           3736,
           1458
          ],
          [
           33466,
           15766,
           13224,
           4476
          ],
          [
           15266,
           7252,
           6490,
           1524
          ],
          [
           31816,
           15364,
           12060,
           4392
          ],
          [
           45602,
           21144,
           18782,
           5676
          ],
          [
           21478,
           9618,
           8914,
           2946
          ],
          [
           26020,
           12606,
           10060,
           3354
          ],
          [
           50494,
           24136,
           20018,
           6340
          ],
          [
           35318,
           17094,
           13992,
           4232
          ],
          [
           21106,
           10016,
           8596,
           2494
          ],
          [
           28886,
           13526,
           11672,
           3688
          ],
          [
           72596,
           34020,
           32144,
           6432
          ],
          [
           46116,
           21366,
           19448,
           5302
          ]
         ],
         "hovertemplate": "<b>%{y}</b><br><i>Yhteensä: %{customdata[0]}</i><br><i>Miehet: %{customdata[1]}</i><br><i>Naiset: %{customdata[2]}</i><br><i>Muu: %{customdata[3]}</i><extra></extra>",
         "legendgroup": "F00-F99 Mielenterveyden ja käyttäytymisen häiriöt",
         "marker": {
          "color": "#ab63fa",
          "pattern": {
           "shape": ""
          }
         },
         "name": "F00-F99 Mielenterveyden ja käyttäytymisen häiriöt",
         "offsetgroup": "F00-F99 Mielenterveyden ja käyttäytymisen häiriöt",
         "orientation": "h",
         "showlegend": true,
         "textposition": "auto",
         "type": "bar",
         "x": [
          1526,
          4698,
          10214,
          6142,
          4640,
          6430,
          3204,
          10710,
          3858,
          10234,
          13858,
          7184,
          8648,
          17522,
          11578,
          6098,
          9396,
          16822,
          14076
         ],
         "xaxis": "x",
         "y": [
          "Ahvenanmaa",
          "Etelä-Karjala",
          "Etelä-Pohjanmaa",
          "Etelä-Savo",
          "Kainuu",
          "Kanta-Häme",
          "Keski-Pohjanmaa",
          "Keski-Suomi",
          "Kymenlaakso",
          "Lappi",
          "Pirkanmaa",
          "Pohjanmaa",
          "Pohjois-Karjala",
          "Pohjois-Pohjanmaa",
          "Pohjois-Savo",
          "Päijät-Häme",
          "Satakunta",
          "Uusimaa",
          "Varsinais-Suomi"
         ],
         "yaxis": "y"
        },
        {
         "alignmentgroup": "True",
         "customdata": [
          [
           3742,
           1220,
           1312,
           1210
          ],
          [
           15118,
           7250,
           5842,
           2026
          ],
          [
           29574,
           13822,
           11884,
           3868
          ],
          [
           20092,
           9696,
           7748,
           2648
          ],
          [
           14362,
           6882,
           5538,
           1942
          ],
          [
           21110,
           9838,
           8534,
           2738
          ],
          [
           9628,
           4434,
           3736,
           1458
          ],
          [
           33466,
           15766,
           13224,
           4476
          ],
          [
           15266,
           7252,
           6490,
           1524
          ],
          [
           31816,
           15364,
           12060,
           4392
          ],
          [
           45602,
           21144,
           18782,
           5676
          ],
          [
           21478,
           9618,
           8914,
           2946
          ],
          [
           26020,
           12606,
           10060,
           3354
          ],
          [
           50494,
           24136,
           20018,
           6340
          ],
          [
           35318,
           17094,
           13992,
           4232
          ],
          [
           21106,
           10016,
           8596,
           2494
          ],
          [
           28886,
           13526,
           11672,
           3688
          ],
          [
           72596,
           34020,
           32144,
           6432
          ],
          [
           46116,
           21366,
           19448,
           5302
          ]
         ],
         "hovertemplate": "<b>%{y}</b><br><i>Yhteensä: %{customdata[0]}</i><br><i>Miehet: %{customdata[1]}</i><br><i>Naiset: %{customdata[2]}</i><br><i>Muu: %{customdata[3]}</i><extra></extra>",
         "legendgroup": "G00-G99 Hermoston sairaudet",
         "marker": {
          "color": "#FFA15A",
          "pattern": {
           "shape": ""
          }
         },
         "name": "G00-G99 Hermoston sairaudet",
         "offsetgroup": "G00-G99 Hermoston sairaudet",
         "orientation": "h",
         "showlegend": true,
         "textposition": "auto",
         "type": "bar",
         "x": [
          372,
          1850,
          3944,
          2748,
          1782,
          2872,
          1132,
          3946,
          1948,
          4110,
          5862,
          2868,
          3476,
          5654,
          4374,
          2630,
          3590,
          9454,
          6254
         ],
         "xaxis": "x",
         "y": [
          "Ahvenanmaa",
          "Etelä-Karjala",
          "Etelä-Pohjanmaa",
          "Etelä-Savo",
          "Kainuu",
          "Kanta-Häme",
          "Keski-Pohjanmaa",
          "Keski-Suomi",
          "Kymenlaakso",
          "Lappi",
          "Pirkanmaa",
          "Pohjanmaa",
          "Pohjois-Karjala",
          "Pohjois-Pohjanmaa",
          "Pohjois-Savo",
          "Päijät-Häme",
          "Satakunta",
          "Uusimaa",
          "Varsinais-Suomi"
         ],
         "yaxis": "y"
        },
        {
         "alignmentgroup": "True",
         "customdata": [
          [
           3742,
           1220,
           1312,
           1210
          ],
          [
           15118,
           7250,
           5842,
           2026
          ],
          [
           29574,
           13822,
           11884,
           3868
          ],
          [
           20092,
           9696,
           7748,
           2648
          ],
          [
           14362,
           6882,
           5538,
           1942
          ],
          [
           21110,
           9838,
           8534,
           2738
          ],
          [
           9628,
           4434,
           3736,
           1458
          ],
          [
           33466,
           15766,
           13224,
           4476
          ],
          [
           15266,
           7252,
           6490,
           1524
          ],
          [
           31816,
           15364,
           12060,
           4392
          ],
          [
           45602,
           21144,
           18782,
           5676
          ],
          [
           21478,
           9618,
           8914,
           2946
          ],
          [
           26020,
           12606,
           10060,
           3354
          ],
          [
           50494,
           24136,
           20018,
           6340
          ],
          [
           35318,
           17094,
           13992,
           4232
          ],
          [
           21106,
           10016,
           8596,
           2494
          ],
          [
           28886,
           13526,
           11672,
           3688
          ],
          [
           72596,
           34020,
           32144,
           6432
          ],
          [
           46116,
           21366,
           19448,
           5302
          ]
         ],
         "hovertemplate": "<b>%{y}</b><br><i>Yhteensä: %{customdata[0]}</i><br><i>Miehet: %{customdata[1]}</i><br><i>Naiset: %{customdata[2]}</i><br><i>Muu: %{customdata[3]}</i><extra></extra>",
         "legendgroup": "H00-H59 Silmän ja sen apuelinten sairaudet",
         "marker": {
          "color": "#19d3f3",
          "pattern": {
           "shape": ""
          }
         },
         "name": "H00-H59 Silmän ja sen apuelinten sairaudet",
         "offsetgroup": "H00-H59 Silmän ja sen apuelinten sairaudet",
         "orientation": "h",
         "showlegend": true,
         "textposition": "auto",
         "type": "bar",
         "x": [
          22,
          310,
          438,
          458,
          162,
          448,
          146,
          748,
          526,
          598,
          1330,
          418,
          504,
          912,
          820,
          544,
          736,
          2784,
          1050
         ],
         "xaxis": "x",
         "y": [
          "Ahvenanmaa",
          "Etelä-Karjala",
          "Etelä-Pohjanmaa",
          "Etelä-Savo",
          "Kainuu",
          "Kanta-Häme",
          "Keski-Pohjanmaa",
          "Keski-Suomi",
          "Kymenlaakso",
          "Lappi",
          "Pirkanmaa",
          "Pohjanmaa",
          "Pohjois-Karjala",
          "Pohjois-Pohjanmaa",
          "Pohjois-Savo",
          "Päijät-Häme",
          "Satakunta",
          "Uusimaa",
          "Varsinais-Suomi"
         ],
         "yaxis": "y"
        },
        {
         "alignmentgroup": "True",
         "customdata": [
          [
           3742,
           1220,
           1312,
           1210
          ],
          [
           15118,
           7250,
           5842,
           2026
          ],
          [
           29574,
           13822,
           11884,
           3868
          ],
          [
           20092,
           9696,
           7748,
           2648
          ],
          [
           14362,
           6882,
           5538,
           1942
          ],
          [
           21110,
           9838,
           8534,
           2738
          ],
          [
           9628,
           4434,
           3736,
           1458
          ],
          [
           33466,
           15766,
           13224,
           4476
          ],
          [
           15266,
           7252,
           6490,
           1524
          ],
          [
           31816,
           15364,
           12060,
           4392
          ],
          [
           45602,
           21144,
           18782,
           5676
          ],
          [
           21478,
           9618,
           8914,
           2946
          ],
          [
           26020,
           12606,
           10060,
           3354
          ],
          [
           50494,
           24136,
           20018,
           6340
          ],
          [
           35318,
           17094,
           13992,
           4232
          ],
          [
           21106,
           10016,
           8596,
           2494
          ],
          [
           28886,
           13526,
           11672,
           3688
          ],
          [
           72596,
           34020,
           32144,
           6432
          ],
          [
           46116,
           21366,
           19448,
           5302
          ]
         ],
         "hovertemplate": "<b>%{y}</b><br><i>Yhteensä: %{customdata[0]}</i><br><i>Miehet: %{customdata[1]}</i><br><i>Naiset: %{customdata[2]}</i><br><i>Muu: %{customdata[3]}</i><extra></extra>",
         "legendgroup": "H60-H99 Korvan ja kartiolisäkkeen sairaudet",
         "marker": {
          "color": "#FF6692",
          "pattern": {
           "shape": ""
          }
         },
         "name": "H60-H99 Korvan ja kartiolisäkkeen sairaudet",
         "offsetgroup": "H60-H99 Korvan ja kartiolisäkkeen sairaudet",
         "orientation": "h",
         "showlegend": true,
         "textposition": "auto",
         "type": "bar",
         "x": [
          10,
          86,
          104,
          112,
          74,
          138,
          90,
          166,
          178,
          206,
          464,
          164,
          130,
          212,
          238,
          184,
          294,
          1038,
          326
         ],
         "xaxis": "x",
         "y": [
          "Ahvenanmaa",
          "Etelä-Karjala",
          "Etelä-Pohjanmaa",
          "Etelä-Savo",
          "Kainuu",
          "Kanta-Häme",
          "Keski-Pohjanmaa",
          "Keski-Suomi",
          "Kymenlaakso",
          "Lappi",
          "Pirkanmaa",
          "Pohjanmaa",
          "Pohjois-Karjala",
          "Pohjois-Pohjanmaa",
          "Pohjois-Savo",
          "Päijät-Häme",
          "Satakunta",
          "Uusimaa",
          "Varsinais-Suomi"
         ],
         "yaxis": "y"
        },
        {
         "alignmentgroup": "True",
         "customdata": [
          [
           3742,
           1220,
           1312,
           1210
          ],
          [
           15118,
           7250,
           5842,
           2026
          ],
          [
           29574,
           13822,
           11884,
           3868
          ],
          [
           20092,
           9696,
           7748,
           2648
          ],
          [
           14362,
           6882,
           5538,
           1942
          ],
          [
           21110,
           9838,
           8534,
           2738
          ],
          [
           9628,
           4434,
           3736,
           1458
          ],
          [
           33466,
           15766,
           13224,
           4476
          ],
          [
           15266,
           7252,
           6490,
           1524
          ],
          [
           31816,
           15364,
           12060,
           4392
          ],
          [
           45602,
           21144,
           18782,
           5676
          ],
          [
           21478,
           9618,
           8914,
           2946
          ],
          [
           26020,
           12606,
           10060,
           3354
          ],
          [
           50494,
           24136,
           20018,
           6340
          ],
          [
           35318,
           17094,
           13992,
           4232
          ],
          [
           21106,
           10016,
           8596,
           2494
          ],
          [
           28886,
           13526,
           11672,
           3688
          ],
          [
           72596,
           34020,
           32144,
           6432
          ],
          [
           46116,
           21366,
           19448,
           5302
          ]
         ],
         "hovertemplate": "<b>%{y}</b><br><i>Yhteensä: %{customdata[0]}</i><br><i>Miehet: %{customdata[1]}</i><br><i>Naiset: %{customdata[2]}</i><br><i>Muu: %{customdata[3]}</i><extra></extra>",
         "legendgroup": "I00-I99 Verenkiertoelinten sairaudet",
         "marker": {
          "color": "#B6E880",
          "pattern": {
           "shape": ""
          }
         },
         "name": "I00-I99 Verenkiertoelinten sairaudet",
         "offsetgroup": "I00-I99 Verenkiertoelinten sairaudet",
         "orientation": "h",
         "showlegend": true,
         "textposition": "auto",
         "type": "bar",
         "x": [
          210,
          1392,
          2548,
          1874,
          1374,
          1818,
          710,
          3186,
          1212,
          2992,
          3802,
          1788,
          2344,
          4352,
          3090,
          1780,
          2326,
          6132,
          3836
         ],
         "xaxis": "x",
         "y": [
          "Ahvenanmaa",
          "Etelä-Karjala",
          "Etelä-Pohjanmaa",
          "Etelä-Savo",
          "Kainuu",
          "Kanta-Häme",
          "Keski-Pohjanmaa",
          "Keski-Suomi",
          "Kymenlaakso",
          "Lappi",
          "Pirkanmaa",
          "Pohjanmaa",
          "Pohjois-Karjala",
          "Pohjois-Pohjanmaa",
          "Pohjois-Savo",
          "Päijät-Häme",
          "Satakunta",
          "Uusimaa",
          "Varsinais-Suomi"
         ],
         "yaxis": "y"
        },
        {
         "alignmentgroup": "True",
         "customdata": [
          [
           3742,
           1220,
           1312,
           1210
          ],
          [
           15118,
           7250,
           5842,
           2026
          ],
          [
           29574,
           13822,
           11884,
           3868
          ],
          [
           20092,
           9696,
           7748,
           2648
          ],
          [
           14362,
           6882,
           5538,
           1942
          ],
          [
           21110,
           9838,
           8534,
           2738
          ],
          [
           9628,
           4434,
           3736,
           1458
          ],
          [
           33466,
           15766,
           13224,
           4476
          ],
          [
           15266,
           7252,
           6490,
           1524
          ],
          [
           31816,
           15364,
           12060,
           4392
          ],
          [
           45602,
           21144,
           18782,
           5676
          ],
          [
           21478,
           9618,
           8914,
           2946
          ],
          [
           26020,
           12606,
           10060,
           3354
          ],
          [
           50494,
           24136,
           20018,
           6340
          ],
          [
           35318,
           17094,
           13992,
           4232
          ],
          [
           21106,
           10016,
           8596,
           2494
          ],
          [
           28886,
           13526,
           11672,
           3688
          ],
          [
           72596,
           34020,
           32144,
           6432
          ],
          [
           46116,
           21366,
           19448,
           5302
          ]
         ],
         "hovertemplate": "<b>%{y}</b><br><i>Yhteensä: %{customdata[0]}</i><br><i>Miehet: %{customdata[1]}</i><br><i>Naiset: %{customdata[2]}</i><br><i>Muu: %{customdata[3]}</i><extra></extra>",
         "legendgroup": "J00-J99 Hengityselinten sairaudet",
         "marker": {
          "color": "#FF97FF",
          "pattern": {
           "shape": ""
          }
         },
         "name": "J00-J99 Hengityselinten sairaudet",
         "offsetgroup": "J00-J99 Hengityselinten sairaudet",
         "orientation": "h",
         "showlegend": true,
         "textposition": "auto",
         "type": "bar",
         "x": [
          40,
          444,
          840,
          634,
          486,
          690,
          286,
          1210,
          504,
          1102,
          1338,
          626,
          758,
          1460,
          1122,
          592,
          630,
          2672,
          1088
         ],
         "xaxis": "x",
         "y": [
          "Ahvenanmaa",
          "Etelä-Karjala",
          "Etelä-Pohjanmaa",
          "Etelä-Savo",
          "Kainuu",
          "Kanta-Häme",
          "Keski-Pohjanmaa",
          "Keski-Suomi",
          "Kymenlaakso",
          "Lappi",
          "Pirkanmaa",
          "Pohjanmaa",
          "Pohjois-Karjala",
          "Pohjois-Pohjanmaa",
          "Pohjois-Savo",
          "Päijät-Häme",
          "Satakunta",
          "Uusimaa",
          "Varsinais-Suomi"
         ],
         "yaxis": "y"
        },
        {
         "alignmentgroup": "True",
         "customdata": [
          [
           3742,
           1220,
           1312,
           1210
          ],
          [
           15118,
           7250,
           5842,
           2026
          ],
          [
           29574,
           13822,
           11884,
           3868
          ],
          [
           20092,
           9696,
           7748,
           2648
          ],
          [
           14362,
           6882,
           5538,
           1942
          ],
          [
           21110,
           9838,
           8534,
           2738
          ],
          [
           9628,
           4434,
           3736,
           1458
          ],
          [
           33466,
           15766,
           13224,
           4476
          ],
          [
           15266,
           7252,
           6490,
           1524
          ],
          [
           31816,
           15364,
           12060,
           4392
          ],
          [
           45602,
           21144,
           18782,
           5676
          ],
          [
           21478,
           9618,
           8914,
           2946
          ],
          [
           26020,
           12606,
           10060,
           3354
          ],
          [
           50494,
           24136,
           20018,
           6340
          ],
          [
           35318,
           17094,
           13992,
           4232
          ],
          [
           21106,
           10016,
           8596,
           2494
          ],
          [
           28886,
           13526,
           11672,
           3688
          ],
          [
           72596,
           34020,
           32144,
           6432
          ],
          [
           46116,
           21366,
           19448,
           5302
          ]
         ],
         "hovertemplate": "<b>%{y}</b><br><i>Yhteensä: %{customdata[0]}</i><br><i>Miehet: %{customdata[1]}</i><br><i>Naiset: %{customdata[2]}</i><br><i>Muu: %{customdata[3]}</i><extra></extra>",
         "legendgroup": "K00-K99 Ruoansulatuselinten sairaudet",
         "marker": {
          "color": "#FECB52",
          "pattern": {
           "shape": ""
          }
         },
         "name": "K00-K99 Ruoansulatuselinten sairaudet",
         "offsetgroup": "K00-K99 Ruoansulatuselinten sairaudet",
         "orientation": "h",
         "showlegend": true,
         "textposition": "auto",
         "type": "bar",
         "x": [
          14,
          224,
          188,
          214,
          222,
          258,
          192,
          370,
          320,
          294,
          676,
          270,
          152,
          568,
          340,
          332,
          410,
          1618,
          510
         ],
         "xaxis": "x",
         "y": [
          "Ahvenanmaa",
          "Etelä-Karjala",
          "Etelä-Pohjanmaa",
          "Etelä-Savo",
          "Kainuu",
          "Kanta-Häme",
          "Keski-Pohjanmaa",
          "Keski-Suomi",
          "Kymenlaakso",
          "Lappi",
          "Pirkanmaa",
          "Pohjanmaa",
          "Pohjois-Karjala",
          "Pohjois-Pohjanmaa",
          "Pohjois-Savo",
          "Päijät-Häme",
          "Satakunta",
          "Uusimaa",
          "Varsinais-Suomi"
         ],
         "yaxis": "y"
        },
        {
         "alignmentgroup": "True",
         "customdata": [
          [
           3742,
           1220,
           1312,
           1210
          ],
          [
           15118,
           7250,
           5842,
           2026
          ],
          [
           29574,
           13822,
           11884,
           3868
          ],
          [
           20092,
           9696,
           7748,
           2648
          ],
          [
           14362,
           6882,
           5538,
           1942
          ],
          [
           21110,
           9838,
           8534,
           2738
          ],
          [
           9628,
           4434,
           3736,
           1458
          ],
          [
           33466,
           15766,
           13224,
           4476
          ],
          [
           15266,
           7252,
           6490,
           1524
          ],
          [
           31816,
           15364,
           12060,
           4392
          ],
          [
           45602,
           21144,
           18782,
           5676
          ],
          [
           21478,
           9618,
           8914,
           2946
          ],
          [
           26020,
           12606,
           10060,
           3354
          ],
          [
           50494,
           24136,
           20018,
           6340
          ],
          [
           35318,
           17094,
           13992,
           4232
          ],
          [
           21106,
           10016,
           8596,
           2494
          ],
          [
           28886,
           13526,
           11672,
           3688
          ],
          [
           72596,
           34020,
           32144,
           6432
          ],
          [
           46116,
           21366,
           19448,
           5302
          ]
         ],
         "hovertemplate": "<b>%{y}</b><br><i>Yhteensä: %{customdata[0]}</i><br><i>Miehet: %{customdata[1]}</i><br><i>Naiset: %{customdata[2]}</i><br><i>Muu: %{customdata[3]}</i><extra></extra>",
         "legendgroup": "L00-L99 Ihon ja ihonalaiskudoksen sairaudet",
         "marker": {
          "color": "#636efa",
          "pattern": {
           "shape": ""
          }
         },
         "name": "L00-L99 Ihon ja ihonalaiskudoksen sairaudet",
         "offsetgroup": "L00-L99 Ihon ja ihonalaiskudoksen sairaudet",
         "orientation": "h",
         "showlegend": true,
         "textposition": "auto",
         "type": "bar",
         "x": [
          2,
          118,
          220,
          90,
          114,
          178,
          56,
          224,
          238,
          232,
          502,
          260,
          232,
          340,
          256,
          210,
          274,
          900,
          276
         ],
         "xaxis": "x",
         "y": [
          "Ahvenanmaa",
          "Etelä-Karjala",
          "Etelä-Pohjanmaa",
          "Etelä-Savo",
          "Kainuu",
          "Kanta-Häme",
          "Keski-Pohjanmaa",
          "Keski-Suomi",
          "Kymenlaakso",
          "Lappi",
          "Pirkanmaa",
          "Pohjanmaa",
          "Pohjois-Karjala",
          "Pohjois-Pohjanmaa",
          "Pohjois-Savo",
          "Päijät-Häme",
          "Satakunta",
          "Uusimaa",
          "Varsinais-Suomi"
         ],
         "yaxis": "y"
        },
        {
         "alignmentgroup": "True",
         "customdata": [
          [
           3742,
           1220,
           1312,
           1210
          ],
          [
           15118,
           7250,
           5842,
           2026
          ],
          [
           29574,
           13822,
           11884,
           3868
          ],
          [
           20092,
           9696,
           7748,
           2648
          ],
          [
           14362,
           6882,
           5538,
           1942
          ],
          [
           21110,
           9838,
           8534,
           2738
          ],
          [
           9628,
           4434,
           3736,
           1458
          ],
          [
           33466,
           15766,
           13224,
           4476
          ],
          [
           15266,
           7252,
           6490,
           1524
          ],
          [
           31816,
           15364,
           12060,
           4392
          ],
          [
           45602,
           21144,
           18782,
           5676
          ],
          [
           21478,
           9618,
           8914,
           2946
          ],
          [
           26020,
           12606,
           10060,
           3354
          ],
          [
           50494,
           24136,
           20018,
           6340
          ],
          [
           35318,
           17094,
           13992,
           4232
          ],
          [
           21106,
           10016,
           8596,
           2494
          ],
          [
           28886,
           13526,
           11672,
           3688
          ],
          [
           72596,
           34020,
           32144,
           6432
          ],
          [
           46116,
           21366,
           19448,
           5302
          ]
         ],
         "hovertemplate": "<b>%{y}</b><br><i>Yhteensä: %{customdata[0]}</i><br><i>Miehet: %{customdata[1]}</i><br><i>Naiset: %{customdata[2]}</i><br><i>Muu: %{customdata[3]}</i><extra></extra>",
         "legendgroup": "M00-M99 Tuki- ja liikuntael. sekä sidekudoksen sair.",
         "marker": {
          "color": "#EF553B",
          "pattern": {
           "shape": ""
          }
         },
         "name": "M00-M99 Tuki- ja liikuntael. sekä sidekudoksen sair.",
         "offsetgroup": "M00-M99 Tuki- ja liikuntael. sekä sidekudoksen sair.",
         "orientation": "h",
         "showlegend": true,
         "textposition": "auto",
         "type": "bar",
         "x": [
          1038,
          2358,
          4804,
          3300,
          2314,
          3148,
          1740,
          5634,
          2130,
          5418,
          6662,
          3454,
          4216,
          8488,
          5838,
          3166,
          4620,
          8918,
          7308
         ],
         "xaxis": "x",
         "y": [
          "Ahvenanmaa",
          "Etelä-Karjala",
          "Etelä-Pohjanmaa",
          "Etelä-Savo",
          "Kainuu",
          "Kanta-Häme",
          "Keski-Pohjanmaa",
          "Keski-Suomi",
          "Kymenlaakso",
          "Lappi",
          "Pirkanmaa",
          "Pohjanmaa",
          "Pohjois-Karjala",
          "Pohjois-Pohjanmaa",
          "Pohjois-Savo",
          "Päijät-Häme",
          "Satakunta",
          "Uusimaa",
          "Varsinais-Suomi"
         ],
         "yaxis": "y"
        },
        {
         "alignmentgroup": "True",
         "customdata": [
          [
           3742,
           1220,
           1312,
           1210
          ],
          [
           15118,
           7250,
           5842,
           2026
          ],
          [
           29574,
           13822,
           11884,
           3868
          ],
          [
           20092,
           9696,
           7748,
           2648
          ],
          [
           14362,
           6882,
           5538,
           1942
          ],
          [
           21110,
           9838,
           8534,
           2738
          ],
          [
           9628,
           4434,
           3736,
           1458
          ],
          [
           33466,
           15766,
           13224,
           4476
          ],
          [
           15266,
           7252,
           6490,
           1524
          ],
          [
           31816,
           15364,
           12060,
           4392
          ],
          [
           45602,
           21144,
           18782,
           5676
          ],
          [
           21478,
           9618,
           8914,
           2946
          ],
          [
           26020,
           12606,
           10060,
           3354
          ],
          [
           50494,
           24136,
           20018,
           6340
          ],
          [
           35318,
           17094,
           13992,
           4232
          ],
          [
           21106,
           10016,
           8596,
           2494
          ],
          [
           28886,
           13526,
           11672,
           3688
          ],
          [
           72596,
           34020,
           32144,
           6432
          ],
          [
           46116,
           21366,
           19448,
           5302
          ]
         ],
         "hovertemplate": "<b>%{y}</b><br><i>Yhteensä: %{customdata[0]}</i><br><i>Miehet: %{customdata[1]}</i><br><i>Naiset: %{customdata[2]}</i><br><i>Muu: %{customdata[3]}</i><extra></extra>",
         "legendgroup": "Muut pääryhmät (XV,XVI,XVIII,XX)",
         "marker": {
          "color": "#00cc96",
          "pattern": {
           "shape": ""
          }
         },
         "name": "Muut pääryhmät (XV,XVI,XVIII,XX)",
         "offsetgroup": "Muut pääryhmät (XV,XVI,XVIII,XX)",
         "orientation": "h",
         "showlegend": true,
         "textposition": "auto",
         "type": "bar",
         "x": [
          44,
          144,
          242,
          174,
          140,
          280,
          64,
          386,
          240,
          270,
          606,
          214,
          190,
          520,
          366,
          282,
          308,
          1506,
          686
         ],
         "xaxis": "x",
         "y": [
          "Ahvenanmaa",
          "Etelä-Karjala",
          "Etelä-Pohjanmaa",
          "Etelä-Savo",
          "Kainuu",
          "Kanta-Häme",
          "Keski-Pohjanmaa",
          "Keski-Suomi",
          "Kymenlaakso",
          "Lappi",
          "Pirkanmaa",
          "Pohjanmaa",
          "Pohjois-Karjala",
          "Pohjois-Pohjanmaa",
          "Pohjois-Savo",
          "Päijät-Häme",
          "Satakunta",
          "Uusimaa",
          "Varsinais-Suomi"
         ],
         "yaxis": "y"
        },
        {
         "alignmentgroup": "True",
         "customdata": [
          [
           3742,
           1220,
           1312,
           1210
          ],
          [
           15118,
           7250,
           5842,
           2026
          ],
          [
           29574,
           13822,
           11884,
           3868
          ],
          [
           20092,
           9696,
           7748,
           2648
          ],
          [
           14362,
           6882,
           5538,
           1942
          ],
          [
           21110,
           9838,
           8534,
           2738
          ],
          [
           9628,
           4434,
           3736,
           1458
          ],
          [
           33466,
           15766,
           13224,
           4476
          ],
          [
           15266,
           7252,
           6490,
           1524
          ],
          [
           31816,
           15364,
           12060,
           4392
          ],
          [
           45602,
           21144,
           18782,
           5676
          ],
          [
           21478,
           9618,
           8914,
           2946
          ],
          [
           26020,
           12606,
           10060,
           3354
          ],
          [
           50494,
           24136,
           20018,
           6340
          ],
          [
           35318,
           17094,
           13992,
           4232
          ],
          [
           21106,
           10016,
           8596,
           2494
          ],
          [
           28886,
           13526,
           11672,
           3688
          ],
          [
           72596,
           34020,
           32144,
           6432
          ],
          [
           46116,
           21366,
           19448,
           5302
          ]
         ],
         "hovertemplate": "<b>%{y}</b><br><i>Yhteensä: %{customdata[0]}</i><br><i>Miehet: %{customdata[1]}</i><br><i>Naiset: %{customdata[2]}</i><br><i>Muu: %{customdata[3]}</i><extra></extra>",
         "legendgroup": "Q00-Q99 Synnynn. epämuod. ja kromosomipoikkeavuudet",
         "marker": {
          "color": "#ab63fa",
          "pattern": {
           "shape": ""
          }
         },
         "name": "Q00-Q99 Synnynn. epämuod. ja kromosomipoikkeavuudet",
         "offsetgroup": "Q00-Q99 Synnynn. epämuod. ja kromosomipoikkeavuudet",
         "orientation": "h",
         "showlegend": true,
         "textposition": "auto",
         "type": "bar",
         "x": [
          150,
          694,
          1076,
          808,
          528,
          844,
          550,
          1674,
          906,
          1416,
          2000,
          992,
          1130,
          2432,
          1576,
          1204,
          1220,
          4482,
          2112
         ],
         "xaxis": "x",
         "y": [
          "Ahvenanmaa",
          "Etelä-Karjala",
          "Etelä-Pohjanmaa",
          "Etelä-Savo",
          "Kainuu",
          "Kanta-Häme",
          "Keski-Pohjanmaa",
          "Keski-Suomi",
          "Kymenlaakso",
          "Lappi",
          "Pirkanmaa",
          "Pohjanmaa",
          "Pohjois-Karjala",
          "Pohjois-Pohjanmaa",
          "Pohjois-Savo",
          "Päijät-Häme",
          "Satakunta",
          "Uusimaa",
          "Varsinais-Suomi"
         ],
         "yaxis": "y"
        },
        {
         "alignmentgroup": "True",
         "customdata": [
          [
           3742,
           1220,
           1312,
           1210
          ],
          [
           15118,
           7250,
           5842,
           2026
          ],
          [
           29574,
           13822,
           11884,
           3868
          ],
          [
           20092,
           9696,
           7748,
           2648
          ],
          [
           14362,
           6882,
           5538,
           1942
          ],
          [
           21110,
           9838,
           8534,
           2738
          ],
          [
           9628,
           4434,
           3736,
           1458
          ],
          [
           33466,
           15766,
           13224,
           4476
          ],
          [
           15266,
           7252,
           6490,
           1524
          ],
          [
           31816,
           15364,
           12060,
           4392
          ],
          [
           45602,
           21144,
           18782,
           5676
          ],
          [
           21478,
           9618,
           8914,
           2946
          ],
          [
           26020,
           12606,
           10060,
           3354
          ],
          [
           50494,
           24136,
           20018,
           6340
          ],
          [
           35318,
           17094,
           13992,
           4232
          ],
          [
           21106,
           10016,
           8596,
           2494
          ],
          [
           28886,
           13526,
           11672,
           3688
          ],
          [
           72596,
           34020,
           32144,
           6432
          ],
          [
           46116,
           21366,
           19448,
           5302
          ]
         ],
         "hovertemplate": "<b>%{y}</b><br><i>Yhteensä: %{customdata[0]}</i><br><i>Miehet: %{customdata[1]}</i><br><i>Naiset: %{customdata[2]}</i><br><i>Muu: %{customdata[3]}</i><extra></extra>",
         "legendgroup": "S00-T99 Vammat, myrkytykset ja muut ulk. syiden seur.",
         "marker": {
          "color": "#FFA15A",
          "pattern": {
           "shape": ""
          }
         },
         "name": "S00-T99 Vammat, myrkytykset ja muut ulk. syiden seur.",
         "offsetgroup": "S00-T99 Vammat, myrkytykset ja muut ulk. syiden seur.",
         "orientation": "h",
         "showlegend": true,
         "textposition": "auto",
         "type": "bar",
         "x": [
          142,
          1360,
          2456,
          1698,
          1194,
          1838,
          672,
          2572,
          1334,
          2500,
          3580,
          1380,
          2086,
          3862,
          2734,
          1812,
          2368,
          6360,
          3978
         ],
         "xaxis": "x",
         "y": [
          "Ahvenanmaa",
          "Etelä-Karjala",
          "Etelä-Pohjanmaa",
          "Etelä-Savo",
          "Kainuu",
          "Kanta-Häme",
          "Keski-Pohjanmaa",
          "Keski-Suomi",
          "Kymenlaakso",
          "Lappi",
          "Pirkanmaa",
          "Pohjanmaa",
          "Pohjois-Karjala",
          "Pohjois-Pohjanmaa",
          "Pohjois-Savo",
          "Päijät-Häme",
          "Satakunta",
          "Uusimaa",
          "Varsinais-Suomi"
         ],
         "yaxis": "y"
        },
        {
         "alignmentgroup": "True",
         "customdata": [
          [
           3742,
           1220,
           1312,
           1210
          ],
          [
           15118,
           7250,
           5842,
           2026
          ],
          [
           29574,
           13822,
           11884,
           3868
          ],
          [
           20092,
           9696,
           7748,
           2648
          ],
          [
           14362,
           6882,
           5538,
           1942
          ],
          [
           21110,
           9838,
           8534,
           2738
          ],
          [
           9628,
           4434,
           3736,
           1458
          ],
          [
           33466,
           15766,
           13224,
           4476
          ],
          [
           15266,
           7252,
           6490,
           1524
          ],
          [
           31816,
           15364,
           12060,
           4392
          ],
          [
           45602,
           21144,
           18782,
           5676
          ],
          [
           21478,
           9618,
           8914,
           2946
          ],
          [
           26020,
           12606,
           10060,
           3354
          ],
          [
           50494,
           24136,
           20018,
           6340
          ],
          [
           35318,
           17094,
           13992,
           4232
          ],
          [
           21106,
           10016,
           8596,
           2494
          ],
          [
           28886,
           13526,
           11672,
           3688
          ],
          [
           72596,
           34020,
           32144,
           6432
          ],
          [
           46116,
           21366,
           19448,
           5302
          ]
         ],
         "hovertemplate": "<b>%{y}</b><br><i>Yhteensä: %{customdata[0]}</i><br><i>Miehet: %{customdata[1]}</i><br><i>Naiset: %{customdata[2]}</i><br><i>Muu: %{customdata[3]}</i><extra></extra>",
         "legendgroup": "D50-D99 Veren ja vertamuodostavien elinten sairaudet",
         "marker": {
          "color": "#19d3f3",
          "pattern": {
           "shape": ""
          }
         },
         "name": "D50-D99 Veren ja vertamuodostavien elinten sairaudet",
         "offsetgroup": "D50-D99 Veren ja vertamuodostavien elinten sairaudet",
         "orientation": "h",
         "showlegend": true,
         "textposition": "auto",
         "type": "bar",
         "x": [
          8,
          24,
          32,
          40,
          52,
          18,
          46,
          22,
          26,
          120,
          4,
          8,
          54,
          54,
          50,
          36,
          270,
          64
         ],
         "xaxis": "x",
         "y": [
          "Etelä-Karjala",
          "Etelä-Pohjanmaa",
          "Etelä-Savo",
          "Kainuu",
          "Kanta-Häme",
          "Keski-Pohjanmaa",
          "Keski-Suomi",
          "Kymenlaakso",
          "Lappi",
          "Pirkanmaa",
          "Pohjanmaa",
          "Pohjois-Karjala",
          "Pohjois-Pohjanmaa",
          "Pohjois-Savo",
          "Päijät-Häme",
          "Satakunta",
          "Uusimaa",
          "Varsinais-Suomi"
         ],
         "yaxis": "y"
        },
        {
         "alignmentgroup": "True",
         "customdata": [
          [
           3742,
           1220,
           1312,
           1210
          ],
          [
           15118,
           7250,
           5842,
           2026
          ],
          [
           29574,
           13822,
           11884,
           3868
          ],
          [
           20092,
           9696,
           7748,
           2648
          ],
          [
           14362,
           6882,
           5538,
           1942
          ],
          [
           21110,
           9838,
           8534,
           2738
          ],
          [
           9628,
           4434,
           3736,
           1458
          ],
          [
           33466,
           15766,
           13224,
           4476
          ],
          [
           15266,
           7252,
           6490,
           1524
          ],
          [
           31816,
           15364,
           12060,
           4392
          ],
          [
           45602,
           21144,
           18782,
           5676
          ],
          [
           21478,
           9618,
           8914,
           2946
          ],
          [
           26020,
           12606,
           10060,
           3354
          ],
          [
           50494,
           24136,
           20018,
           6340
          ],
          [
           35318,
           17094,
           13992,
           4232
          ],
          [
           21106,
           10016,
           8596,
           2494
          ],
          [
           28886,
           13526,
           11672,
           3688
          ],
          [
           72596,
           34020,
           32144,
           6432
          ],
          [
           46116,
           21366,
           19448,
           5302
          ]
         ],
         "hovertemplate": "<b>%{y}</b><br><i>Yhteensä: %{customdata[0]}</i><br><i>Miehet: %{customdata[1]}</i><br><i>Naiset: %{customdata[2]}</i><br><i>Muu: %{customdata[3]}</i><extra></extra>",
         "legendgroup": "N00-N99 Virtsa- ja sukupuolielinten sairaudet",
         "marker": {
          "color": "#FF6692",
          "pattern": {
           "shape": ""
          }
         },
         "name": "N00-N99 Virtsa- ja sukupuolielinten sairaudet",
         "offsetgroup": "N00-N99 Virtsa- ja sukupuolielinten sairaudet",
         "orientation": "h",
         "showlegend": true,
         "textposition": "auto",
         "type": "bar",
         "x": [
          78,
          78,
          90,
          24,
          28,
          56,
          112,
          158,
          86,
          356,
          52,
          78,
          196,
          110,
          150,
          116,
          834,
          176
         ],
         "xaxis": "x",
         "y": [
          "Etelä-Karjala",
          "Etelä-Pohjanmaa",
          "Etelä-Savo",
          "Kainuu",
          "Kanta-Häme",
          "Keski-Pohjanmaa",
          "Keski-Suomi",
          "Kymenlaakso",
          "Lappi",
          "Pirkanmaa",
          "Pohjanmaa",
          "Pohjois-Karjala",
          "Pohjois-Pohjanmaa",
          "Pohjois-Savo",
          "Päijät-Häme",
          "Satakunta",
          "Uusimaa",
          "Varsinais-Suomi"
         ],
         "yaxis": "y"
        }
       ],
       "layout": {
        "barmode": "group",
        "height": 900,
        "hoverlabel": {
         "align": "right"
        },
        "legend": {
         "title": {
          "text": "Sairauspääryhmä"
         },
         "tracegroupgap": 0
        },
        "margin": {
         "t": 60
        },
        "template": {
         "data": {
          "bar": [
           {
            "error_x": {
             "color": "#2a3f5f"
            },
            "error_y": {
             "color": "#2a3f5f"
            },
            "marker": {
             "line": {
              "color": "#E5ECF6",
              "width": 0.5
             },
             "pattern": {
              "fillmode": "overlay",
              "size": 10,
              "solidity": 0.2
             }
            },
            "type": "bar"
           }
          ],
          "barpolar": [
           {
            "marker": {
             "line": {
              "color": "#E5ECF6",
              "width": 0.5
             },
             "pattern": {
              "fillmode": "overlay",
              "size": 10,
              "solidity": 0.2
             }
            },
            "type": "barpolar"
           }
          ],
          "carpet": [
           {
            "aaxis": {
             "endlinecolor": "#2a3f5f",
             "gridcolor": "white",
             "linecolor": "white",
             "minorgridcolor": "white",
             "startlinecolor": "#2a3f5f"
            },
            "baxis": {
             "endlinecolor": "#2a3f5f",
             "gridcolor": "white",
             "linecolor": "white",
             "minorgridcolor": "white",
             "startlinecolor": "#2a3f5f"
            },
            "type": "carpet"
           }
          ],
          "choropleth": [
           {
            "colorbar": {
             "outlinewidth": 0,
             "ticks": ""
            },
            "type": "choropleth"
           }
          ],
          "contour": [
           {
            "colorbar": {
             "outlinewidth": 0,
             "ticks": ""
            },
            "colorscale": [
             [
              0,
              "#0d0887"
             ],
             [
              0.1111111111111111,
              "#46039f"
             ],
             [
              0.2222222222222222,
              "#7201a8"
             ],
             [
              0.3333333333333333,
              "#9c179e"
             ],
             [
              0.4444444444444444,
              "#bd3786"
             ],
             [
              0.5555555555555556,
              "#d8576b"
             ],
             [
              0.6666666666666666,
              "#ed7953"
             ],
             [
              0.7777777777777778,
              "#fb9f3a"
             ],
             [
              0.8888888888888888,
              "#fdca26"
             ],
             [
              1,
              "#f0f921"
             ]
            ],
            "type": "contour"
           }
          ],
          "contourcarpet": [
           {
            "colorbar": {
             "outlinewidth": 0,
             "ticks": ""
            },
            "type": "contourcarpet"
           }
          ],
          "heatmap": [
           {
            "colorbar": {
             "outlinewidth": 0,
             "ticks": ""
            },
            "colorscale": [
             [
              0,
              "#0d0887"
             ],
             [
              0.1111111111111111,
              "#46039f"
             ],
             [
              0.2222222222222222,
              "#7201a8"
             ],
             [
              0.3333333333333333,
              "#9c179e"
             ],
             [
              0.4444444444444444,
              "#bd3786"
             ],
             [
              0.5555555555555556,
              "#d8576b"
             ],
             [
              0.6666666666666666,
              "#ed7953"
             ],
             [
              0.7777777777777778,
              "#fb9f3a"
             ],
             [
              0.8888888888888888,
              "#fdca26"
             ],
             [
              1,
              "#f0f921"
             ]
            ],
            "type": "heatmap"
           }
          ],
          "heatmapgl": [
           {
            "colorbar": {
             "outlinewidth": 0,
             "ticks": ""
            },
            "colorscale": [
             [
              0,
              "#0d0887"
             ],
             [
              0.1111111111111111,
              "#46039f"
             ],
             [
              0.2222222222222222,
              "#7201a8"
             ],
             [
              0.3333333333333333,
              "#9c179e"
             ],
             [
              0.4444444444444444,
              "#bd3786"
             ],
             [
              0.5555555555555556,
              "#d8576b"
             ],
             [
              0.6666666666666666,
              "#ed7953"
             ],
             [
              0.7777777777777778,
              "#fb9f3a"
             ],
             [
              0.8888888888888888,
              "#fdca26"
             ],
             [
              1,
              "#f0f921"
             ]
            ],
            "type": "heatmapgl"
           }
          ],
          "histogram": [
           {
            "marker": {
             "pattern": {
              "fillmode": "overlay",
              "size": 10,
              "solidity": 0.2
             }
            },
            "type": "histogram"
           }
          ],
          "histogram2d": [
           {
            "colorbar": {
             "outlinewidth": 0,
             "ticks": ""
            },
            "colorscale": [
             [
              0,
              "#0d0887"
             ],
             [
              0.1111111111111111,
              "#46039f"
             ],
             [
              0.2222222222222222,
              "#7201a8"
             ],
             [
              0.3333333333333333,
              "#9c179e"
             ],
             [
              0.4444444444444444,
              "#bd3786"
             ],
             [
              0.5555555555555556,
              "#d8576b"
             ],
             [
              0.6666666666666666,
              "#ed7953"
             ],
             [
              0.7777777777777778,
              "#fb9f3a"
             ],
             [
              0.8888888888888888,
              "#fdca26"
             ],
             [
              1,
              "#f0f921"
             ]
            ],
            "type": "histogram2d"
           }
          ],
          "histogram2dcontour": [
           {
            "colorbar": {
             "outlinewidth": 0,
             "ticks": ""
            },
            "colorscale": [
             [
              0,
              "#0d0887"
             ],
             [
              0.1111111111111111,
              "#46039f"
             ],
             [
              0.2222222222222222,
              "#7201a8"
             ],
             [
              0.3333333333333333,
              "#9c179e"
             ],
             [
              0.4444444444444444,
              "#bd3786"
             ],
             [
              0.5555555555555556,
              "#d8576b"
             ],
             [
              0.6666666666666666,
              "#ed7953"
             ],
             [
              0.7777777777777778,
              "#fb9f3a"
             ],
             [
              0.8888888888888888,
              "#fdca26"
             ],
             [
              1,
              "#f0f921"
             ]
            ],
            "type": "histogram2dcontour"
           }
          ],
          "mesh3d": [
           {
            "colorbar": {
             "outlinewidth": 0,
             "ticks": ""
            },
            "type": "mesh3d"
           }
          ],
          "parcoords": [
           {
            "line": {
             "colorbar": {
              "outlinewidth": 0,
              "ticks": ""
             }
            },
            "type": "parcoords"
           }
          ],
          "pie": [
           {
            "automargin": true,
            "type": "pie"
           }
          ],
          "scatter": [
           {
            "fillpattern": {
             "fillmode": "overlay",
             "size": 10,
             "solidity": 0.2
            },
            "type": "scatter"
           }
          ],
          "scatter3d": [
           {
            "line": {
             "colorbar": {
              "outlinewidth": 0,
              "ticks": ""
             }
            },
            "marker": {
             "colorbar": {
              "outlinewidth": 0,
              "ticks": ""
             }
            },
            "type": "scatter3d"
           }
          ],
          "scattercarpet": [
           {
            "marker": {
             "colorbar": {
              "outlinewidth": 0,
              "ticks": ""
             }
            },
            "type": "scattercarpet"
           }
          ],
          "scattergeo": [
           {
            "marker": {
             "colorbar": {
              "outlinewidth": 0,
              "ticks": ""
             }
            },
            "type": "scattergeo"
           }
          ],
          "scattergl": [
           {
            "marker": {
             "colorbar": {
              "outlinewidth": 0,
              "ticks": ""
             }
            },
            "type": "scattergl"
           }
          ],
          "scattermapbox": [
           {
            "marker": {
             "colorbar": {
              "outlinewidth": 0,
              "ticks": ""
             }
            },
            "type": "scattermapbox"
           }
          ],
          "scatterpolar": [
           {
            "marker": {
             "colorbar": {
              "outlinewidth": 0,
              "ticks": ""
             }
            },
            "type": "scatterpolar"
           }
          ],
          "scatterpolargl": [
           {
            "marker": {
             "colorbar": {
              "outlinewidth": 0,
              "ticks": ""
             }
            },
            "type": "scatterpolargl"
           }
          ],
          "scatterternary": [
           {
            "marker": {
             "colorbar": {
              "outlinewidth": 0,
              "ticks": ""
             }
            },
            "type": "scatterternary"
           }
          ],
          "surface": [
           {
            "colorbar": {
             "outlinewidth": 0,
             "ticks": ""
            },
            "colorscale": [
             [
              0,
              "#0d0887"
             ],
             [
              0.1111111111111111,
              "#46039f"
             ],
             [
              0.2222222222222222,
              "#7201a8"
             ],
             [
              0.3333333333333333,
              "#9c179e"
             ],
             [
              0.4444444444444444,
              "#bd3786"
             ],
             [
              0.5555555555555556,
              "#d8576b"
             ],
             [
              0.6666666666666666,
              "#ed7953"
             ],
             [
              0.7777777777777778,
              "#fb9f3a"
             ],
             [
              0.8888888888888888,
              "#fdca26"
             ],
             [
              1,
              "#f0f921"
             ]
            ],
            "type": "surface"
           }
          ],
          "table": [
           {
            "cells": {
             "fill": {
              "color": "#EBF0F8"
             },
             "line": {
              "color": "white"
             }
            },
            "header": {
             "fill": {
              "color": "#C8D4E3"
             },
             "line": {
              "color": "white"
             }
            },
            "type": "table"
           }
          ]
         },
         "layout": {
          "annotationdefaults": {
           "arrowcolor": "#2a3f5f",
           "arrowhead": 0,
           "arrowwidth": 1
          },
          "autotypenumbers": "strict",
          "coloraxis": {
           "colorbar": {
            "outlinewidth": 0,
            "ticks": ""
           }
          },
          "colorscale": {
           "diverging": [
            [
             0,
             "#8e0152"
            ],
            [
             0.1,
             "#c51b7d"
            ],
            [
             0.2,
             "#de77ae"
            ],
            [
             0.3,
             "#f1b6da"
            ],
            [
             0.4,
             "#fde0ef"
            ],
            [
             0.5,
             "#f7f7f7"
            ],
            [
             0.6,
             "#e6f5d0"
            ],
            [
             0.7,
             "#b8e186"
            ],
            [
             0.8,
             "#7fbc41"
            ],
            [
             0.9,
             "#4d9221"
            ],
            [
             1,
             "#276419"
            ]
           ],
           "sequential": [
            [
             0,
             "#0d0887"
            ],
            [
             0.1111111111111111,
             "#46039f"
            ],
            [
             0.2222222222222222,
             "#7201a8"
            ],
            [
             0.3333333333333333,
             "#9c179e"
            ],
            [
             0.4444444444444444,
             "#bd3786"
            ],
            [
             0.5555555555555556,
             "#d8576b"
            ],
            [
             0.6666666666666666,
             "#ed7953"
            ],
            [
             0.7777777777777778,
             "#fb9f3a"
            ],
            [
             0.8888888888888888,
             "#fdca26"
            ],
            [
             1,
             "#f0f921"
            ]
           ],
           "sequentialminus": [
            [
             0,
             "#0d0887"
            ],
            [
             0.1111111111111111,
             "#46039f"
            ],
            [
             0.2222222222222222,
             "#7201a8"
            ],
            [
             0.3333333333333333,
             "#9c179e"
            ],
            [
             0.4444444444444444,
             "#bd3786"
            ],
            [
             0.5555555555555556,
             "#d8576b"
            ],
            [
             0.6666666666666666,
             "#ed7953"
            ],
            [
             0.7777777777777778,
             "#fb9f3a"
            ],
            [
             0.8888888888888888,
             "#fdca26"
            ],
            [
             1,
             "#f0f921"
            ]
           ]
          },
          "colorway": [
           "#636efa",
           "#EF553B",
           "#00cc96",
           "#ab63fa",
           "#FFA15A",
           "#19d3f3",
           "#FF6692",
           "#B6E880",
           "#FF97FF",
           "#FECB52"
          ],
          "font": {
           "color": "#2a3f5f"
          },
          "geo": {
           "bgcolor": "white",
           "lakecolor": "white",
           "landcolor": "#E5ECF6",
           "showlakes": true,
           "showland": true,
           "subunitcolor": "white"
          },
          "hoverlabel": {
           "align": "left"
          },
          "hovermode": "closest",
          "mapbox": {
           "style": "light"
          },
          "paper_bgcolor": "white",
          "plot_bgcolor": "#E5ECF6",
          "polar": {
           "angularaxis": {
            "gridcolor": "white",
            "linecolor": "white",
            "ticks": ""
           },
           "bgcolor": "#E5ECF6",
           "radialaxis": {
            "gridcolor": "white",
            "linecolor": "white",
            "ticks": ""
           }
          },
          "scene": {
           "xaxis": {
            "backgroundcolor": "#E5ECF6",
            "gridcolor": "white",
            "gridwidth": 2,
            "linecolor": "white",
            "showbackground": true,
            "ticks": "",
            "zerolinecolor": "white"
           },
           "yaxis": {
            "backgroundcolor": "#E5ECF6",
            "gridcolor": "white",
            "gridwidth": 2,
            "linecolor": "white",
            "showbackground": true,
            "ticks": "",
            "zerolinecolor": "white"
           },
           "zaxis": {
            "backgroundcolor": "#E5ECF6",
            "gridcolor": "white",
            "gridwidth": 2,
            "linecolor": "white",
            "showbackground": true,
            "ticks": "",
            "zerolinecolor": "white"
           }
          },
          "shapedefaults": {
           "line": {
            "color": "#2a3f5f"
           }
          },
          "ternary": {
           "aaxis": {
            "gridcolor": "white",
            "linecolor": "white",
            "ticks": ""
           },
           "baxis": {
            "gridcolor": "white",
            "linecolor": "white",
            "ticks": ""
           },
           "bgcolor": "#E5ECF6",
           "caxis": {
            "gridcolor": "white",
            "linecolor": "white",
            "ticks": ""
           }
          },
          "title": {
           "x": 0.05
          },
          "xaxis": {
           "automargin": true,
           "gridcolor": "white",
           "linecolor": "white",
           "ticks": "",
           "title": {
            "standoff": 15
           },
           "zerolinecolor": "white",
           "zerolinewidth": 2
          },
          "yaxis": {
           "automargin": true,
           "gridcolor": "white",
           "linecolor": "white",
           "ticks": "",
           "title": {
            "standoff": 15
           },
           "zerolinecolor": "white",
           "zerolinewidth": 2
          }
         }
        },
        "title": {
         "text": "<b>2003-2023, Työkyvyttömyyseläkkeensaajat maakunnittain eriteltynä.</b>"
        },
        "xaxis": {
         "anchor": "y",
         "domain": [
          0,
          1
         ],
         "title": {
          "text": "LKM"
         }
        },
        "yaxis": {
         "anchor": "x",
         "domain": [
          0,
          1
         ],
         "title": {
          "text": "Maakunta"
         }
        }
       }
      }
     },
     "metadata": {},
     "output_type": "display_data"
    }
   ],
   "source": [
    "grouped = df.groupby(['Maakunta', 'sairauspaaryhma',]).agg(\n",
    "    saaja_lkm=('saaja_lkm', 'count')\n",
    ").reset_index()\n",
    "\n",
    "fig2 = px.bar(\n",
    "    grouped, \n",
    "    y='Maakunta', \n",
    "    x='saaja_lkm', \n",
    "    color='sairauspaaryhma',\n",
    "    labels={\n",
    "        'Maakunta': 'Maakunta', \n",
    "        'saaja_lkm': 'LKM', \n",
    "        'sairauspaaryhma': 'Sairauspääryhmä'\n",
    "    },\n",
    "    barmode='group',\n",
    "    height=900\n",
    ")\n",
    "\n",
    "fig2.update_traces(\n",
    "    customdata=all_locations[['saaja_lkm','saaja_lkm_mies', 'saaja_lkm_nainen', 'saaja_lkm_muu']],\n",
    "    hovertemplate='<b>%{y}</b><br>' +\n",
    "                  '<i>Yhteensä: %{customdata[0]}</i><br>' +\n",
    "                  '<i>Miehet: %{customdata[1]}</i><br>' +\n",
    "                  '<i>Naiset: %{customdata[2]}</i><br>' +\n",
    "                  '<i>Muu: %{customdata[3]}</i><extra></extra>'\n",
    ")\n",
    "\n",
    "\n",
    "fig2.update_layout(\n",
    "    hoverlabel_align = 'right',\n",
    "    title=\"<b>2003-2023, Työkyvyttömyyseläkkeensaajat maakunnittain eriteltynä.</b>\"\n",
    "    )\n",
    "\n",
    "fig2.show()\n",
    "pio.write_html(fig2, file='maakunta_sairaspaaryhmat_eriteltyna.html', auto_open=False)\n"
   ]
  },
  {
   "cell_type": "code",
   "execution_count": 390,
   "metadata": {},
   "outputs": [
    {
     "data": {
      "application/vnd.plotly.v1+json": {
       "config": {
        "plotlyServerURL": "https://plot.ly"
       },
       "data": [
        {
         "hovertemplate": "<b>%{x}</b><br><b>%{y}:LKM</b><br>",
         "legendgroup": "A00-B99 Tartunta- ja loistaudit",
         "line": {
          "color": "#636efa",
          "dash": "solid"
         },
         "marker": {
          "symbol": "circle"
         },
         "mode": "lines",
         "name": "A00-B99 Tartunta- ja loistaudit",
         "orientation": "v",
         "showlegend": true,
         "type": "scatter",
         "x": [
          2003,
          2004,
          2005,
          2006,
          2007,
          2008,
          2009,
          2010,
          2011,
          2012,
          2013,
          2014,
          2015,
          2016,
          2017,
          2018,
          2019,
          2020,
          2021,
          2022,
          2023
         ],
         "xaxis": "x",
         "y": [
          70,
          66,
          64,
          64,
          54,
          64,
          58,
          54,
          50,
          48,
          50,
          40,
          38,
          34,
          36,
          32,
          30,
          26,
          24,
          24,
          20
         ],
         "yaxis": "y"
        },
        {
         "hovertemplate": "<b>%{x}</b><br><b>%{y}:LKM</b><br>",
         "legendgroup": "C00-D49 Kasvaimet",
         "line": {
          "color": "#EF553B",
          "dash": "solid"
         },
         "marker": {
          "symbol": "circle"
         },
         "mode": "lines",
         "name": "C00-D49 Kasvaimet",
         "orientation": "v",
         "showlegend": true,
         "type": "scatter",
         "x": [
          2003,
          2004,
          2005,
          2006,
          2007,
          2008,
          2009,
          2010,
          2011,
          2012,
          2013,
          2014,
          2015,
          2016,
          2017,
          2018,
          2019,
          2020,
          2021,
          2022,
          2023
         ],
         "xaxis": "x",
         "y": [
          232,
          228,
          218,
          222,
          228,
          218,
          230,
          236,
          230,
          226,
          214,
          212,
          198,
          214,
          204,
          218,
          192,
          200,
          220,
          196,
          206
         ],
         "yaxis": "y"
        },
        {
         "hovertemplate": "<b>%{x}</b><br><b>%{y}:LKM</b><br>",
         "legendgroup": "D50-D99 Veren ja vertamuodostavien elinten sairaudet",
         "line": {
          "color": "#00cc96",
          "dash": "solid"
         },
         "marker": {
          "symbol": "circle"
         },
         "mode": "lines",
         "name": "D50-D99 Veren ja vertamuodostavien elinten sairaudet",
         "orientation": "v",
         "showlegend": true,
         "type": "scatter",
         "x": [
          2003,
          2004,
          2005,
          2006,
          2007,
          2008,
          2009,
          2010,
          2011,
          2012,
          2013,
          2014,
          2015,
          2016,
          2017,
          2018,
          2019,
          2020,
          2021,
          2022,
          2023
         ],
         "xaxis": "x",
         "y": [
          10,
          8,
          12,
          12,
          12,
          10,
          16,
          10,
          14,
          12,
          14,
          10,
          12,
          16,
          12,
          16,
          12,
          14,
          16,
          18,
          14
         ],
         "yaxis": "y"
        },
        {
         "hovertemplate": "<b>%{x}</b><br><b>%{y}:LKM</b><br>",
         "legendgroup": "E00-E99 Umpieritys-, ravitsemus- ja aineenvaihduntasair.",
         "line": {
          "color": "#ab63fa",
          "dash": "solid"
         },
         "marker": {
          "symbol": "circle"
         },
         "mode": "lines",
         "name": "E00-E99 Umpieritys-, ravitsemus- ja aineenvaihduntasair.",
         "orientation": "v",
         "showlegend": true,
         "type": "scatter",
         "x": [
          2003,
          2004,
          2005,
          2006,
          2007,
          2008,
          2009,
          2010,
          2011,
          2012,
          2013,
          2014,
          2015,
          2016,
          2017,
          2018,
          2019,
          2020,
          2021,
          2022,
          2023
         ],
         "xaxis": "x",
         "y": [
          182,
          180,
          182,
          180,
          184,
          176,
          180,
          176,
          166,
          166,
          170,
          154,
          148,
          148,
          142,
          144,
          140,
          134,
          124,
          128,
          114
         ],
         "yaxis": "y"
        },
        {
         "hovertemplate": "<b>%{x}</b><br><b>%{y}:LKM</b><br>",
         "legendgroup": "F00-F99 Mielenterveyden ja käyttäytymisen häiriöt",
         "line": {
          "color": "#FFA15A",
          "dash": "solid"
         },
         "marker": {
          "symbol": "circle"
         },
         "mode": "lines",
         "name": "F00-F99 Mielenterveyden ja käyttäytymisen häiriöt",
         "orientation": "v",
         "showlegend": true,
         "type": "scatter",
         "x": [
          2003,
          2004,
          2005,
          2006,
          2007,
          2008,
          2009,
          2010,
          2011,
          2012,
          2013,
          2014,
          2015,
          2016,
          2017,
          2018,
          2019,
          2020,
          2021,
          2022,
          2023
         ],
         "xaxis": "x",
         "y": [
          764,
          750,
          758,
          768,
          774,
          776,
          816,
          820,
          826,
          832,
          808,
          814,
          826,
          814,
          816,
          828,
          812,
          820,
          808,
          804,
          788
         ],
         "yaxis": "y"
        },
        {
         "hovertemplate": "<b>%{x}</b><br><b>%{y}:LKM</b><br>",
         "legendgroup": "G00-G99 Hermoston sairaudet",
         "line": {
          "color": "#19d3f3",
          "dash": "solid"
         },
         "marker": {
          "symbol": "circle"
         },
         "mode": "lines",
         "name": "G00-G99 Hermoston sairaudet",
         "orientation": "v",
         "showlegend": true,
         "type": "scatter",
         "x": [
          2003,
          2004,
          2005,
          2006,
          2007,
          2008,
          2009,
          2010,
          2011,
          2012,
          2013,
          2014,
          2015,
          2016,
          2017,
          2018,
          2019,
          2020,
          2021,
          2022,
          2023
         ],
         "xaxis": "x",
         "y": [
          424,
          422,
          434,
          432,
          444,
          444,
          460,
          458,
          460,
          466,
          482,
          454,
          472,
          460,
          474,
          450,
          458,
          440,
          444,
          440,
          436
         ],
         "yaxis": "y"
        },
        {
         "hovertemplate": "<b>%{x}</b><br><b>%{y}:LKM</b><br>",
         "legendgroup": "H00-H59 Silmän ja sen apuelinten sairaudet",
         "line": {
          "color": "#FF6692",
          "dash": "solid"
         },
         "marker": {
          "symbol": "circle"
         },
         "mode": "lines",
         "name": "H00-H59 Silmän ja sen apuelinten sairaudet",
         "orientation": "v",
         "showlegend": true,
         "type": "scatter",
         "x": [
          2003,
          2004,
          2005,
          2006,
          2007,
          2008,
          2009,
          2010,
          2011,
          2012,
          2013,
          2014,
          2015,
          2016,
          2017,
          2018,
          2019,
          2020,
          2021,
          2022,
          2023
         ],
         "xaxis": "x",
         "y": [
          152,
          162,
          160,
          152,
          152,
          150,
          154,
          148,
          144,
          134,
          132,
          126,
          124,
          120,
          116,
          110,
          110,
          110,
          110,
          106,
          112
         ],
         "yaxis": "y"
        },
        {
         "hovertemplate": "<b>%{x}</b><br><b>%{y}:LKM</b><br>",
         "legendgroup": "H60-H99 Korvan ja kartiolisäkkeen sairaudet",
         "line": {
          "color": "#B6E880",
          "dash": "solid"
         },
         "marker": {
          "symbol": "circle"
         },
         "mode": "lines",
         "name": "H60-H99 Korvan ja kartiolisäkkeen sairaudet",
         "orientation": "v",
         "showlegend": true,
         "type": "scatter",
         "x": [
          2003,
          2004,
          2005,
          2006,
          2007,
          2008,
          2009,
          2010,
          2011,
          2012,
          2013,
          2014,
          2015,
          2016,
          2017,
          2018,
          2019,
          2020,
          2021,
          2022,
          2023
         ],
         "xaxis": "x",
         "y": [
          74,
          72,
          74,
          70,
          64,
          66,
          64,
          56,
          50,
          52,
          50,
          46,
          44,
          34,
          34,
          34,
          32,
          32,
          36,
          28,
          26
         ],
         "yaxis": "y"
        },
        {
         "hovertemplate": "<b>%{x}</b><br><b>%{y}:LKM</b><br>",
         "legendgroup": "I00-I99 Verenkiertoelinten sairaudet",
         "line": {
          "color": "#FF97FF",
          "dash": "solid"
         },
         "marker": {
          "symbol": "circle"
         },
         "mode": "lines",
         "name": "I00-I99 Verenkiertoelinten sairaudet",
         "orientation": "v",
         "showlegend": true,
         "type": "scatter",
         "x": [
          2003,
          2004,
          2005,
          2006,
          2007,
          2008,
          2009,
          2010,
          2011,
          2012,
          2013,
          2014,
          2015,
          2016,
          2017,
          2018,
          2019,
          2020,
          2021,
          2022,
          2023
         ],
         "xaxis": "x",
         "y": [
          328,
          326,
          312,
          316,
          308,
          314,
          308,
          322,
          292,
          288,
          294,
          292,
          286,
          286,
          276,
          274,
          268,
          274,
          268,
          254,
          246
         ],
         "yaxis": "y"
        },
        {
         "hovertemplate": "<b>%{x}</b><br><b>%{y}:LKM</b><br>",
         "legendgroup": "J00-J99 Hengityselinten sairaudet",
         "line": {
          "color": "#FECB52",
          "dash": "solid"
         },
         "marker": {
          "symbol": "circle"
         },
         "mode": "lines",
         "name": "J00-J99 Hengityselinten sairaudet",
         "orientation": "v",
         "showlegend": true,
         "type": "scatter",
         "x": [
          2003,
          2004,
          2005,
          2006,
          2007,
          2008,
          2009,
          2010,
          2011,
          2012,
          2013,
          2014,
          2015,
          2016,
          2017,
          2018,
          2019,
          2020,
          2021,
          2022,
          2023
         ],
         "xaxis": "x",
         "y": [
          186,
          184,
          176,
          166,
          154,
          154,
          152,
          156,
          146,
          136,
          136,
          124,
          116,
          102,
          92,
          96,
          92,
          86,
          78,
          68,
          72
         ],
         "yaxis": "y"
        },
        {
         "hovertemplate": "<b>%{x}</b><br><b>%{y}:LKM</b><br>",
         "legendgroup": "K00-K99 Ruoansulatuselinten sairaudet",
         "line": {
          "color": "#636efa",
          "dash": "solid"
         },
         "marker": {
          "symbol": "circle"
         },
         "mode": "lines",
         "name": "K00-K99 Ruoansulatuselinten sairaudet",
         "orientation": "v",
         "showlegend": true,
         "type": "scatter",
         "x": [
          2003,
          2004,
          2005,
          2006,
          2007,
          2008,
          2009,
          2010,
          2011,
          2012,
          2013,
          2014,
          2015,
          2016,
          2017,
          2018,
          2019,
          2020,
          2021,
          2022,
          2023
         ],
         "xaxis": "x",
         "y": [
          82,
          84,
          82,
          86,
          84,
          88,
          102,
          100,
          96,
          80,
          88,
          76,
          72,
          64,
          68,
          68,
          66,
          60,
          60,
          58,
          54
         ],
         "yaxis": "y"
        },
        {
         "hovertemplate": "<b>%{x}</b><br><b>%{y}:LKM</b><br>",
         "legendgroup": "L00-L99 Ihon ja ihonalaiskudoksen sairaudet",
         "line": {
          "color": "#EF553B",
          "dash": "solid"
         },
         "marker": {
          "symbol": "circle"
         },
         "mode": "lines",
         "name": "L00-L99 Ihon ja ihonalaiskudoksen sairaudet",
         "orientation": "v",
         "showlegend": true,
         "type": "scatter",
         "x": [
          2003,
          2004,
          2005,
          2006,
          2007,
          2008,
          2009,
          2010,
          2011,
          2012,
          2013,
          2014,
          2015,
          2016,
          2017,
          2018,
          2019,
          2020,
          2021,
          2022,
          2023
         ],
         "xaxis": "x",
         "y": [
          72,
          64,
          64,
          64,
          60,
          56,
          58,
          56,
          52,
          44,
          42,
          36,
          26,
          28,
          26,
          26,
          22,
          26,
          22,
          28,
          28
         ],
         "yaxis": "y"
        },
        {
         "hovertemplate": "<b>%{x}</b><br><b>%{y}:LKM</b><br>",
         "legendgroup": "M00-M99 Tuki- ja liikuntael. sekä sidekudoksen sair.",
         "line": {
          "color": "#00cc96",
          "dash": "solid"
         },
         "marker": {
          "symbol": "circle"
         },
         "mode": "lines",
         "name": "M00-M99 Tuki- ja liikuntael. sekä sidekudoksen sair.",
         "orientation": "v",
         "showlegend": true,
         "type": "scatter",
         "x": [
          2003,
          2004,
          2005,
          2006,
          2007,
          2008,
          2009,
          2010,
          2011,
          2012,
          2013,
          2014,
          2015,
          2016,
          2017,
          2018,
          2019,
          2020,
          2021,
          2022,
          2023
         ],
         "xaxis": "x",
         "y": [
          468,
          462,
          454,
          460,
          452,
          454,
          472,
          472,
          440,
          438,
          448,
          436,
          440,
          418,
          394,
          384,
          384,
          378,
          358,
          362,
          344
         ],
         "yaxis": "y"
        },
        {
         "hovertemplate": "<b>%{x}</b><br><b>%{y}:LKM</b><br>",
         "legendgroup": "Muut pääryhmät (XV,XVI,XVIII,XX)",
         "line": {
          "color": "#ab63fa",
          "dash": "solid"
         },
         "marker": {
          "symbol": "circle"
         },
         "mode": "lines",
         "name": "Muut pääryhmät (XV,XVI,XVIII,XX)",
         "orientation": "v",
         "showlegend": true,
         "type": "scatter",
         "x": [
          2003,
          2004,
          2005,
          2006,
          2007,
          2008,
          2009,
          2010,
          2011,
          2012,
          2013,
          2014,
          2015,
          2016,
          2017,
          2018,
          2019,
          2020,
          2021,
          2022,
          2023
         ],
         "xaxis": "x",
         "y": [
          88,
          76,
          80,
          68,
          70,
          70,
          74,
          68,
          70,
          62,
          60,
          72,
          72,
          82,
          82,
          76,
          82,
          82,
          56,
          58,
          58
         ],
         "yaxis": "y"
        },
        {
         "hovertemplate": "<b>%{x}</b><br><b>%{y}:LKM</b><br>",
         "legendgroup": "N00-N99 Virtsa- ja sukupuolielinten sairaudet",
         "line": {
          "color": "#FFA15A",
          "dash": "solid"
         },
         "marker": {
          "symbol": "circle"
         },
         "mode": "lines",
         "name": "N00-N99 Virtsa- ja sukupuolielinten sairaudet",
         "orientation": "v",
         "showlegend": true,
         "type": "scatter",
         "x": [
          2003,
          2004,
          2005,
          2006,
          2007,
          2008,
          2009,
          2010,
          2011,
          2012,
          2013,
          2014,
          2015,
          2016,
          2017,
          2018,
          2019,
          2020,
          2021,
          2022,
          2023
         ],
         "xaxis": "x",
         "y": [
          42,
          40,
          44,
          44,
          52,
          44,
          36,
          44,
          44,
          40,
          42,
          36,
          36,
          38,
          32,
          36,
          36,
          44,
          32,
          38,
          34
         ],
         "yaxis": "y"
        },
        {
         "hovertemplate": "<b>%{x}</b><br><b>%{y}:LKM</b><br>",
         "legendgroup": "Q00-Q99 Synnynn. epämuod. ja kromosomipoikkeavuudet",
         "line": {
          "color": "#19d3f3",
          "dash": "solid"
         },
         "marker": {
          "symbol": "circle"
         },
         "mode": "lines",
         "name": "Q00-Q99 Synnynn. epämuod. ja kromosomipoikkeavuudet",
         "orientation": "v",
         "showlegend": true,
         "type": "scatter",
         "x": [
          2003,
          2004,
          2005,
          2006,
          2007,
          2008,
          2009,
          2010,
          2011,
          2012,
          2013,
          2014,
          2015,
          2016,
          2017,
          2018,
          2019,
          2020,
          2021,
          2022,
          2023
         ],
         "xaxis": "x",
         "y": [
          190,
          192,
          194,
          200,
          206,
          200,
          222,
          206,
          214,
          224,
          210,
          224,
          212,
          220,
          226,
          218,
          224,
          224,
          234,
          226,
          216
         ],
         "yaxis": "y"
        },
        {
         "hovertemplate": "<b>%{x}</b><br><b>%{y}:LKM</b><br>",
         "legendgroup": "S00-T99 Vammat, myrkytykset ja muut ulk. syiden seur.",
         "line": {
          "color": "#FF6692",
          "dash": "solid"
         },
         "marker": {
          "symbol": "circle"
         },
         "mode": "lines",
         "name": "S00-T99 Vammat, myrkytykset ja muut ulk. syiden seur.",
         "orientation": "v",
         "showlegend": true,
         "type": "scatter",
         "x": [
          2003,
          2004,
          2005,
          2006,
          2007,
          2008,
          2009,
          2010,
          2011,
          2012,
          2013,
          2014,
          2015,
          2016,
          2017,
          2018,
          2019,
          2020,
          2021,
          2022,
          2023
         ],
         "xaxis": "x",
         "y": [
          312,
          308,
          302,
          312,
          308,
          312,
          326,
          348,
          336,
          340,
          324,
          308,
          306,
          292,
          290,
          296,
          282,
          280,
          270,
          262,
          246
         ],
         "yaxis": "y"
        }
       ],
       "layout": {
        "height": 900,
        "hoverlabel": {
         "align": "right"
        },
        "legend": {
         "title": {
          "text": "Sairauspääryhmä"
         },
         "tracegroupgap": 0
        },
        "margin": {
         "t": 60
        },
        "template": {
         "data": {
          "bar": [
           {
            "error_x": {
             "color": "#2a3f5f"
            },
            "error_y": {
             "color": "#2a3f5f"
            },
            "marker": {
             "line": {
              "color": "#E5ECF6",
              "width": 0.5
             },
             "pattern": {
              "fillmode": "overlay",
              "size": 10,
              "solidity": 0.2
             }
            },
            "type": "bar"
           }
          ],
          "barpolar": [
           {
            "marker": {
             "line": {
              "color": "#E5ECF6",
              "width": 0.5
             },
             "pattern": {
              "fillmode": "overlay",
              "size": 10,
              "solidity": 0.2
             }
            },
            "type": "barpolar"
           }
          ],
          "carpet": [
           {
            "aaxis": {
             "endlinecolor": "#2a3f5f",
             "gridcolor": "white",
             "linecolor": "white",
             "minorgridcolor": "white",
             "startlinecolor": "#2a3f5f"
            },
            "baxis": {
             "endlinecolor": "#2a3f5f",
             "gridcolor": "white",
             "linecolor": "white",
             "minorgridcolor": "white",
             "startlinecolor": "#2a3f5f"
            },
            "type": "carpet"
           }
          ],
          "choropleth": [
           {
            "colorbar": {
             "outlinewidth": 0,
             "ticks": ""
            },
            "type": "choropleth"
           }
          ],
          "contour": [
           {
            "colorbar": {
             "outlinewidth": 0,
             "ticks": ""
            },
            "colorscale": [
             [
              0,
              "#0d0887"
             ],
             [
              0.1111111111111111,
              "#46039f"
             ],
             [
              0.2222222222222222,
              "#7201a8"
             ],
             [
              0.3333333333333333,
              "#9c179e"
             ],
             [
              0.4444444444444444,
              "#bd3786"
             ],
             [
              0.5555555555555556,
              "#d8576b"
             ],
             [
              0.6666666666666666,
              "#ed7953"
             ],
             [
              0.7777777777777778,
              "#fb9f3a"
             ],
             [
              0.8888888888888888,
              "#fdca26"
             ],
             [
              1,
              "#f0f921"
             ]
            ],
            "type": "contour"
           }
          ],
          "contourcarpet": [
           {
            "colorbar": {
             "outlinewidth": 0,
             "ticks": ""
            },
            "type": "contourcarpet"
           }
          ],
          "heatmap": [
           {
            "colorbar": {
             "outlinewidth": 0,
             "ticks": ""
            },
            "colorscale": [
             [
              0,
              "#0d0887"
             ],
             [
              0.1111111111111111,
              "#46039f"
             ],
             [
              0.2222222222222222,
              "#7201a8"
             ],
             [
              0.3333333333333333,
              "#9c179e"
             ],
             [
              0.4444444444444444,
              "#bd3786"
             ],
             [
              0.5555555555555556,
              "#d8576b"
             ],
             [
              0.6666666666666666,
              "#ed7953"
             ],
             [
              0.7777777777777778,
              "#fb9f3a"
             ],
             [
              0.8888888888888888,
              "#fdca26"
             ],
             [
              1,
              "#f0f921"
             ]
            ],
            "type": "heatmap"
           }
          ],
          "heatmapgl": [
           {
            "colorbar": {
             "outlinewidth": 0,
             "ticks": ""
            },
            "colorscale": [
             [
              0,
              "#0d0887"
             ],
             [
              0.1111111111111111,
              "#46039f"
             ],
             [
              0.2222222222222222,
              "#7201a8"
             ],
             [
              0.3333333333333333,
              "#9c179e"
             ],
             [
              0.4444444444444444,
              "#bd3786"
             ],
             [
              0.5555555555555556,
              "#d8576b"
             ],
             [
              0.6666666666666666,
              "#ed7953"
             ],
             [
              0.7777777777777778,
              "#fb9f3a"
             ],
             [
              0.8888888888888888,
              "#fdca26"
             ],
             [
              1,
              "#f0f921"
             ]
            ],
            "type": "heatmapgl"
           }
          ],
          "histogram": [
           {
            "marker": {
             "pattern": {
              "fillmode": "overlay",
              "size": 10,
              "solidity": 0.2
             }
            },
            "type": "histogram"
           }
          ],
          "histogram2d": [
           {
            "colorbar": {
             "outlinewidth": 0,
             "ticks": ""
            },
            "colorscale": [
             [
              0,
              "#0d0887"
             ],
             [
              0.1111111111111111,
              "#46039f"
             ],
             [
              0.2222222222222222,
              "#7201a8"
             ],
             [
              0.3333333333333333,
              "#9c179e"
             ],
             [
              0.4444444444444444,
              "#bd3786"
             ],
             [
              0.5555555555555556,
              "#d8576b"
             ],
             [
              0.6666666666666666,
              "#ed7953"
             ],
             [
              0.7777777777777778,
              "#fb9f3a"
             ],
             [
              0.8888888888888888,
              "#fdca26"
             ],
             [
              1,
              "#f0f921"
             ]
            ],
            "type": "histogram2d"
           }
          ],
          "histogram2dcontour": [
           {
            "colorbar": {
             "outlinewidth": 0,
             "ticks": ""
            },
            "colorscale": [
             [
              0,
              "#0d0887"
             ],
             [
              0.1111111111111111,
              "#46039f"
             ],
             [
              0.2222222222222222,
              "#7201a8"
             ],
             [
              0.3333333333333333,
              "#9c179e"
             ],
             [
              0.4444444444444444,
              "#bd3786"
             ],
             [
              0.5555555555555556,
              "#d8576b"
             ],
             [
              0.6666666666666666,
              "#ed7953"
             ],
             [
              0.7777777777777778,
              "#fb9f3a"
             ],
             [
              0.8888888888888888,
              "#fdca26"
             ],
             [
              1,
              "#f0f921"
             ]
            ],
            "type": "histogram2dcontour"
           }
          ],
          "mesh3d": [
           {
            "colorbar": {
             "outlinewidth": 0,
             "ticks": ""
            },
            "type": "mesh3d"
           }
          ],
          "parcoords": [
           {
            "line": {
             "colorbar": {
              "outlinewidth": 0,
              "ticks": ""
             }
            },
            "type": "parcoords"
           }
          ],
          "pie": [
           {
            "automargin": true,
            "type": "pie"
           }
          ],
          "scatter": [
           {
            "fillpattern": {
             "fillmode": "overlay",
             "size": 10,
             "solidity": 0.2
            },
            "type": "scatter"
           }
          ],
          "scatter3d": [
           {
            "line": {
             "colorbar": {
              "outlinewidth": 0,
              "ticks": ""
             }
            },
            "marker": {
             "colorbar": {
              "outlinewidth": 0,
              "ticks": ""
             }
            },
            "type": "scatter3d"
           }
          ],
          "scattercarpet": [
           {
            "marker": {
             "colorbar": {
              "outlinewidth": 0,
              "ticks": ""
             }
            },
            "type": "scattercarpet"
           }
          ],
          "scattergeo": [
           {
            "marker": {
             "colorbar": {
              "outlinewidth": 0,
              "ticks": ""
             }
            },
            "type": "scattergeo"
           }
          ],
          "scattergl": [
           {
            "marker": {
             "colorbar": {
              "outlinewidth": 0,
              "ticks": ""
             }
            },
            "type": "scattergl"
           }
          ],
          "scattermapbox": [
           {
            "marker": {
             "colorbar": {
              "outlinewidth": 0,
              "ticks": ""
             }
            },
            "type": "scattermapbox"
           }
          ],
          "scatterpolar": [
           {
            "marker": {
             "colorbar": {
              "outlinewidth": 0,
              "ticks": ""
             }
            },
            "type": "scatterpolar"
           }
          ],
          "scatterpolargl": [
           {
            "marker": {
             "colorbar": {
              "outlinewidth": 0,
              "ticks": ""
             }
            },
            "type": "scatterpolargl"
           }
          ],
          "scatterternary": [
           {
            "marker": {
             "colorbar": {
              "outlinewidth": 0,
              "ticks": ""
             }
            },
            "type": "scatterternary"
           }
          ],
          "surface": [
           {
            "colorbar": {
             "outlinewidth": 0,
             "ticks": ""
            },
            "colorscale": [
             [
              0,
              "#0d0887"
             ],
             [
              0.1111111111111111,
              "#46039f"
             ],
             [
              0.2222222222222222,
              "#7201a8"
             ],
             [
              0.3333333333333333,
              "#9c179e"
             ],
             [
              0.4444444444444444,
              "#bd3786"
             ],
             [
              0.5555555555555556,
              "#d8576b"
             ],
             [
              0.6666666666666666,
              "#ed7953"
             ],
             [
              0.7777777777777778,
              "#fb9f3a"
             ],
             [
              0.8888888888888888,
              "#fdca26"
             ],
             [
              1,
              "#f0f921"
             ]
            ],
            "type": "surface"
           }
          ],
          "table": [
           {
            "cells": {
             "fill": {
              "color": "#EBF0F8"
             },
             "line": {
              "color": "white"
             }
            },
            "header": {
             "fill": {
              "color": "#C8D4E3"
             },
             "line": {
              "color": "white"
             }
            },
            "type": "table"
           }
          ]
         },
         "layout": {
          "annotationdefaults": {
           "arrowcolor": "#2a3f5f",
           "arrowhead": 0,
           "arrowwidth": 1
          },
          "autotypenumbers": "strict",
          "coloraxis": {
           "colorbar": {
            "outlinewidth": 0,
            "ticks": ""
           }
          },
          "colorscale": {
           "diverging": [
            [
             0,
             "#8e0152"
            ],
            [
             0.1,
             "#c51b7d"
            ],
            [
             0.2,
             "#de77ae"
            ],
            [
             0.3,
             "#f1b6da"
            ],
            [
             0.4,
             "#fde0ef"
            ],
            [
             0.5,
             "#f7f7f7"
            ],
            [
             0.6,
             "#e6f5d0"
            ],
            [
             0.7,
             "#b8e186"
            ],
            [
             0.8,
             "#7fbc41"
            ],
            [
             0.9,
             "#4d9221"
            ],
            [
             1,
             "#276419"
            ]
           ],
           "sequential": [
            [
             0,
             "#0d0887"
            ],
            [
             0.1111111111111111,
             "#46039f"
            ],
            [
             0.2222222222222222,
             "#7201a8"
            ],
            [
             0.3333333333333333,
             "#9c179e"
            ],
            [
             0.4444444444444444,
             "#bd3786"
            ],
            [
             0.5555555555555556,
             "#d8576b"
            ],
            [
             0.6666666666666666,
             "#ed7953"
            ],
            [
             0.7777777777777778,
             "#fb9f3a"
            ],
            [
             0.8888888888888888,
             "#fdca26"
            ],
            [
             1,
             "#f0f921"
            ]
           ],
           "sequentialminus": [
            [
             0,
             "#0d0887"
            ],
            [
             0.1111111111111111,
             "#46039f"
            ],
            [
             0.2222222222222222,
             "#7201a8"
            ],
            [
             0.3333333333333333,
             "#9c179e"
            ],
            [
             0.4444444444444444,
             "#bd3786"
            ],
            [
             0.5555555555555556,
             "#d8576b"
            ],
            [
             0.6666666666666666,
             "#ed7953"
            ],
            [
             0.7777777777777778,
             "#fb9f3a"
            ],
            [
             0.8888888888888888,
             "#fdca26"
            ],
            [
             1,
             "#f0f921"
            ]
           ]
          },
          "colorway": [
           "#636efa",
           "#EF553B",
           "#00cc96",
           "#ab63fa",
           "#FFA15A",
           "#19d3f3",
           "#FF6692",
           "#B6E880",
           "#FF97FF",
           "#FECB52"
          ],
          "font": {
           "color": "#2a3f5f"
          },
          "geo": {
           "bgcolor": "white",
           "lakecolor": "white",
           "landcolor": "#E5ECF6",
           "showlakes": true,
           "showland": true,
           "subunitcolor": "white"
          },
          "hoverlabel": {
           "align": "left"
          },
          "hovermode": "closest",
          "mapbox": {
           "style": "light"
          },
          "paper_bgcolor": "white",
          "plot_bgcolor": "#E5ECF6",
          "polar": {
           "angularaxis": {
            "gridcolor": "white",
            "linecolor": "white",
            "ticks": ""
           },
           "bgcolor": "#E5ECF6",
           "radialaxis": {
            "gridcolor": "white",
            "linecolor": "white",
            "ticks": ""
           }
          },
          "scene": {
           "xaxis": {
            "backgroundcolor": "#E5ECF6",
            "gridcolor": "white",
            "gridwidth": 2,
            "linecolor": "white",
            "showbackground": true,
            "ticks": "",
            "zerolinecolor": "white"
           },
           "yaxis": {
            "backgroundcolor": "#E5ECF6",
            "gridcolor": "white",
            "gridwidth": 2,
            "linecolor": "white",
            "showbackground": true,
            "ticks": "",
            "zerolinecolor": "white"
           },
           "zaxis": {
            "backgroundcolor": "#E5ECF6",
            "gridcolor": "white",
            "gridwidth": 2,
            "linecolor": "white",
            "showbackground": true,
            "ticks": "",
            "zerolinecolor": "white"
           }
          },
          "shapedefaults": {
           "line": {
            "color": "#2a3f5f"
           }
          },
          "ternary": {
           "aaxis": {
            "gridcolor": "white",
            "linecolor": "white",
            "ticks": ""
           },
           "baxis": {
            "gridcolor": "white",
            "linecolor": "white",
            "ticks": ""
           },
           "bgcolor": "#E5ECF6",
           "caxis": {
            "gridcolor": "white",
            "linecolor": "white",
            "ticks": ""
           }
          },
          "title": {
           "x": 0.05
          },
          "xaxis": {
           "automargin": true,
           "gridcolor": "white",
           "linecolor": "white",
           "ticks": "",
           "title": {
            "standoff": 15
           },
           "zerolinecolor": "white",
           "zerolinewidth": 2
          },
          "yaxis": {
           "automargin": true,
           "gridcolor": "white",
           "linecolor": "white",
           "ticks": "",
           "title": {
            "standoff": 15
           },
           "zerolinecolor": "white",
           "zerolinewidth": 2
          }
         }
        },
        "title": {
         "text": "<b>2003-2023, Työkyvyttömyyseläkkeensaajien vuosikehitys, Uudenmaan alueella.</b>"
        },
        "xaxis": {
         "anchor": "y",
         "categoryarray": [
          2003,
          2004,
          2005,
          2006,
          2007,
          2008,
          2009,
          2010,
          2011,
          2012,
          2013,
          2014,
          2015,
          2016,
          2017,
          2018,
          2019,
          2020,
          2021,
          2022,
          2023
         ],
         "categoryorder": "array",
         "domain": [
          0,
          1
         ],
         "tickangle": 40,
         "title": {
          "text": "Vuosi"
         },
         "type": "category"
        },
        "yaxis": {
         "anchor": "x",
         "domain": [
          0,
          1
         ],
         "title": {
          "text": "LKM"
         }
        }
       }
      }
     },
     "metadata": {},
     "output_type": "display_data"
    }
   ],
   "source": [
    "uusimaa_df = df[df['Maakunta'] == 'Uusimaa']\n",
    "\n",
    "grouped_uusimaa = uusimaa_df.groupby(['sairauspaaryhma','vuosi']).agg(\n",
    "    saaja_lkm=('saaja_lkm', 'count'),\n",
    "    saaja_lkm_mies=('sukupuoli', lambda x: (x == 'Mies').sum()),\n",
    "    saaja_lkm_nainen=('sukupuoli', lambda x: (x == 'Nainen').sum()),\n",
    "    saaja_lkm_muu=('sukupuoli', lambda x: ((x != 'Mies') & (x != 'Nainen')).sum())\n",
    ").reset_index()\n",
    "\n",
    "fig3 = px.line(\n",
    "    grouped_uusimaa, \n",
    "    x='vuosi', \n",
    "    y='saaja_lkm', \n",
    "    color='sairauspaaryhma',\n",
    "    labels={\n",
    "        'vuosi': 'Vuosi', \n",
    "        'saaja_lkm': 'LKM', \n",
    "        'sairauspaaryhma': 'Sairauspääryhmä'\n",
    "    },\n",
    "    height=900, \n",
    "    category_orders={\"vuosi\": sorted(uusimaa_df['vuosi'].unique())}\n",
    ")\n",
    "\n",
    "fig3.update_traces(\n",
    "    hovertemplate='<b>%{x}</b><br>'+'<b>%{y}:LKM</b><br>'\n",
    ")\n",
    "\n",
    "fig3.update_layout(\n",
    "    hoverlabel_align='right',\n",
    "    title=\"<b>2003-2023, Työkyvyttömyyseläkkeensaajien vuosikehitys, Uudenmaan alueella.</b>\"\n",
    ")\n",
    "\n",
    "fig3.update_xaxes(tickangle=40, type='category')\n",
    "fig3.show()\n",
    "pio.write_html(fig3, file='vuosikehitys_2003-2023_uusimaa.html', auto_open=False)"
   ]
  }
 ],
 "metadata": {
  "kernelspec": {
   "display_name": "base",
   "language": "python",
   "name": "python3"
  },
  "language_info": {
   "codemirror_mode": {
    "name": "ipython",
    "version": 3
   },
   "file_extension": ".py",
   "mimetype": "text/x-python",
   "name": "python",
   "nbconvert_exporter": "python",
   "pygments_lexer": "ipython3",
   "version": "3.12.1"
  }
 },
 "nbformat": 4,
 "nbformat_minor": 2
}
