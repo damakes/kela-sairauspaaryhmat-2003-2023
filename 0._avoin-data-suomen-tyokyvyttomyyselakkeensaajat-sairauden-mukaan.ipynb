{
 "cells": [
  {
   "cell_type": "markdown",
   "metadata": {},
   "source": [
    "# ***0._avoin-data-suomen-tyokyvyttomyyselakkeensaajat-sairauden-mukaan***\n",
    "1. Suomen työkyvyttömyyseläkkeensaajat sairauden mukaan, Kelan tilastotietokanta 2003-2023.\n",
    "    1. *Tiedosto*: '_avoin-data-suomen-tyokyvyttomyyselakkeensaajat-sairauden-mukaan.csv'\n",
    "    1. *Verkkolähde*: https://tietotarjotin.fi/tilastodata/988121/avoin-data-suomen-tyokyvyttomyyselakkeensaajat-sairauden-mukaan"
   ]
  },
  {
   "cell_type": "code",
   "execution_count": 1,
   "metadata": {},
   "outputs": [
    {
     "data": {
      "text/html": [
       "<div>\n",
       "<style scoped>\n",
       "    .dataframe tbody tr th:only-of-type {\n",
       "        vertical-align: middle;\n",
       "    }\n",
       "\n",
       "    .dataframe tbody tr th {\n",
       "        vertical-align: top;\n",
       "    }\n",
       "\n",
       "    .dataframe thead th {\n",
       "        text-align: right;\n",
       "    }\n",
       "</style>\n",
       "<table border=\"1\" class=\"dataframe\">\n",
       "  <thead>\n",
       "    <tr style=\"text-align: right;\">\n",
       "      <th></th>\n",
       "      <th>aikatyyppi</th>\n",
       "      <th>kuukausi_nro</th>\n",
       "      <th>vuosikuukausi</th>\n",
       "      <th>vuosi</th>\n",
       "      <th>kunta_nro</th>\n",
       "      <th>kunta_nimi</th>\n",
       "      <th>ikaryhma</th>\n",
       "      <th>sukupuoli</th>\n",
       "      <th>asuinmaa</th>\n",
       "      <th>sairauspaaryhma</th>\n",
       "      <th>saaja_lkm</th>\n",
       "    </tr>\n",
       "  </thead>\n",
       "  <tbody>\n",
       "    <tr>\n",
       "      <th>0</th>\n",
       "      <td>Kuukausi</td>\n",
       "      <td>12</td>\n",
       "      <td>201612</td>\n",
       "      <td>2016</td>\n",
       "      <td>49</td>\n",
       "      <td>Espoo</td>\n",
       "      <td>60-64</td>\n",
       "      <td>Nainen</td>\n",
       "      <td>Suomi</td>\n",
       "      <td>J00-J99 Hengityselinten sairaudet</td>\n",
       "      <td>19</td>\n",
       "    </tr>\n",
       "    <tr>\n",
       "      <th>1</th>\n",
       "      <td>Kuukausi</td>\n",
       "      <td>12</td>\n",
       "      <td>201612</td>\n",
       "      <td>2016</td>\n",
       "      <td>49</td>\n",
       "      <td>Espoo</td>\n",
       "      <td>60-64</td>\n",
       "      <td>Nainen</td>\n",
       "      <td>Suomi</td>\n",
       "      <td>I00-I99 Verenkiertoelinten sairaudet</td>\n",
       "      <td>36</td>\n",
       "    </tr>\n",
       "    <tr>\n",
       "      <th>2</th>\n",
       "      <td>Kuukausi</td>\n",
       "      <td>12</td>\n",
       "      <td>201612</td>\n",
       "      <td>2016</td>\n",
       "      <td>49</td>\n",
       "      <td>Espoo</td>\n",
       "      <td>60-64</td>\n",
       "      <td>Nainen</td>\n",
       "      <td>Suomi</td>\n",
       "      <td>H60-H99 Korvan ja kartiolisäkkeen sairaudet</td>\n",
       "      <td>12</td>\n",
       "    </tr>\n",
       "    <tr>\n",
       "      <th>3</th>\n",
       "      <td>Kuukausi</td>\n",
       "      <td>12</td>\n",
       "      <td>201612</td>\n",
       "      <td>2016</td>\n",
       "      <td>49</td>\n",
       "      <td>Espoo</td>\n",
       "      <td>60-64</td>\n",
       "      <td>Nainen</td>\n",
       "      <td>Suomi</td>\n",
       "      <td>H00-H59 Silmän ja sen apuelinten sairaudet</td>\n",
       "      <td>12</td>\n",
       "    </tr>\n",
       "    <tr>\n",
       "      <th>4</th>\n",
       "      <td>Kuukausi</td>\n",
       "      <td>12</td>\n",
       "      <td>201612</td>\n",
       "      <td>2016</td>\n",
       "      <td>49</td>\n",
       "      <td>Espoo</td>\n",
       "      <td>60-64</td>\n",
       "      <td>Nainen</td>\n",
       "      <td>Suomi</td>\n",
       "      <td>G00-G99 Hermoston sairaudet</td>\n",
       "      <td>70</td>\n",
       "    </tr>\n",
       "    <tr>\n",
       "      <th>...</th>\n",
       "      <td>...</td>\n",
       "      <td>...</td>\n",
       "      <td>...</td>\n",
       "      <td>...</td>\n",
       "      <td>...</td>\n",
       "      <td>...</td>\n",
       "      <td>...</td>\n",
       "      <td>...</td>\n",
       "      <td>...</td>\n",
       "      <td>...</td>\n",
       "      <td>...</td>\n",
       "    </tr>\n",
       "    <tr>\n",
       "      <th>828081</th>\n",
       "      <td>Kuukausi</td>\n",
       "      <td>12</td>\n",
       "      <td>200712</td>\n",
       "      <td>2007</td>\n",
       "      <td>69</td>\n",
       "      <td>Haapajärvi</td>\n",
       "      <td>Tieto puuttuu</td>\n",
       "      <td>Mies</td>\n",
       "      <td>Suomi</td>\n",
       "      <td>M00-M99 Tuki- ja liikuntael. sekä sidekudoksen...</td>\n",
       "      <td>5</td>\n",
       "    </tr>\n",
       "    <tr>\n",
       "      <th>828082</th>\n",
       "      <td>Kuukausi</td>\n",
       "      <td>12</td>\n",
       "      <td>200712</td>\n",
       "      <td>2007</td>\n",
       "      <td>69</td>\n",
       "      <td>Haapajärvi</td>\n",
       "      <td>Tieto puuttuu</td>\n",
       "      <td>Mies</td>\n",
       "      <td>Suomi</td>\n",
       "      <td>G00-G99 Hermoston sairaudet</td>\n",
       "      <td>9</td>\n",
       "    </tr>\n",
       "    <tr>\n",
       "      <th>828083</th>\n",
       "      <td>Kuukausi</td>\n",
       "      <td>12</td>\n",
       "      <td>200712</td>\n",
       "      <td>2007</td>\n",
       "      <td>69</td>\n",
       "      <td>Haapajärvi</td>\n",
       "      <td>Tieto puuttuu</td>\n",
       "      <td>Mies</td>\n",
       "      <td>Yhteensä</td>\n",
       "      <td>S00-T99 Vammat, myrkytykset ja muut ulk. syide...</td>\n",
       "      <td>8</td>\n",
       "    </tr>\n",
       "    <tr>\n",
       "      <th>828084</th>\n",
       "      <td>Kuukausi</td>\n",
       "      <td>12</td>\n",
       "      <td>200712</td>\n",
       "      <td>2007</td>\n",
       "      <td>69</td>\n",
       "      <td>Haapajärvi</td>\n",
       "      <td>Tieto puuttuu</td>\n",
       "      <td>Mies</td>\n",
       "      <td>Yhteensä</td>\n",
       "      <td>Q00-Q99 Synnynn. epämuod. ja kromosomipoikkeav...</td>\n",
       "      <td>13</td>\n",
       "    </tr>\n",
       "    <tr>\n",
       "      <th>828085</th>\n",
       "      <td>Kuukausi</td>\n",
       "      <td>12</td>\n",
       "      <td>200712</td>\n",
       "      <td>2007</td>\n",
       "      <td>69</td>\n",
       "      <td>Haapajärvi</td>\n",
       "      <td>Tieto puuttuu</td>\n",
       "      <td>Mies</td>\n",
       "      <td>Yhteensä</td>\n",
       "      <td>M00-M99 Tuki- ja liikuntael. sekä sidekudoksen...</td>\n",
       "      <td>5</td>\n",
       "    </tr>\n",
       "  </tbody>\n",
       "</table>\n",
       "<p>828086 rows × 11 columns</p>\n",
       "</div>"
      ],
      "text/plain": [
       "       aikatyyppi  kuukausi_nro  vuosikuukausi  vuosi  kunta_nro  kunta_nimi  \\\n",
       "0        Kuukausi            12         201612   2016         49       Espoo   \n",
       "1        Kuukausi            12         201612   2016         49       Espoo   \n",
       "2        Kuukausi            12         201612   2016         49       Espoo   \n",
       "3        Kuukausi            12         201612   2016         49       Espoo   \n",
       "4        Kuukausi            12         201612   2016         49       Espoo   \n",
       "...           ...           ...            ...    ...        ...         ...   \n",
       "828081   Kuukausi            12         200712   2007         69  Haapajärvi   \n",
       "828082   Kuukausi            12         200712   2007         69  Haapajärvi   \n",
       "828083   Kuukausi            12         200712   2007         69  Haapajärvi   \n",
       "828084   Kuukausi            12         200712   2007         69  Haapajärvi   \n",
       "828085   Kuukausi            12         200712   2007         69  Haapajärvi   \n",
       "\n",
       "             ikaryhma sukupuoli  asuinmaa  \\\n",
       "0               60-64    Nainen     Suomi   \n",
       "1               60-64    Nainen     Suomi   \n",
       "2               60-64    Nainen     Suomi   \n",
       "3               60-64    Nainen     Suomi   \n",
       "4               60-64    Nainen     Suomi   \n",
       "...               ...       ...       ...   \n",
       "828081  Tieto puuttuu      Mies     Suomi   \n",
       "828082  Tieto puuttuu      Mies     Suomi   \n",
       "828083  Tieto puuttuu      Mies  Yhteensä   \n",
       "828084  Tieto puuttuu      Mies  Yhteensä   \n",
       "828085  Tieto puuttuu      Mies  Yhteensä   \n",
       "\n",
       "                                          sairauspaaryhma  saaja_lkm  \n",
       "0                       J00-J99 Hengityselinten sairaudet         19  \n",
       "1                    I00-I99 Verenkiertoelinten sairaudet         36  \n",
       "2             H60-H99 Korvan ja kartiolisäkkeen sairaudet         12  \n",
       "3              H00-H59 Silmän ja sen apuelinten sairaudet         12  \n",
       "4                             G00-G99 Hermoston sairaudet         70  \n",
       "...                                                   ...        ...  \n",
       "828081  M00-M99 Tuki- ja liikuntael. sekä sidekudoksen...          5  \n",
       "828082                        G00-G99 Hermoston sairaudet          9  \n",
       "828083  S00-T99 Vammat, myrkytykset ja muut ulk. syide...          8  \n",
       "828084  Q00-Q99 Synnynn. epämuod. ja kromosomipoikkeav...         13  \n",
       "828085  M00-M99 Tuki- ja liikuntael. sekä sidekudoksen...          5  \n",
       "\n",
       "[828086 rows x 11 columns]"
      ]
     },
     "execution_count": 1,
     "metadata": {},
     "output_type": "execute_result"
    }
   ],
   "source": [
    "import pandas as pd\n",
    "\n",
    "df = pd.read_csv('raw/_avoin-data-suomen-tyokyvyttomyyselakkeensaajat-sairauden-mukaan.csv') \n",
    "df"
   ]
  },
  {
   "cell_type": "code",
   "execution_count": 2,
   "metadata": {},
   "outputs": [
    {
     "name": "stdout",
     "output_type": "stream",
     "text": [
      "<class 'pandas.core.frame.DataFrame'>\n",
      "RangeIndex: 828086 entries, 0 to 828085\n",
      "Data columns (total 11 columns):\n",
      " #   Column           Non-Null Count   Dtype \n",
      "---  ------           --------------   ----- \n",
      " 0   aikatyyppi       828086 non-null  object\n",
      " 1   kuukausi_nro     828086 non-null  int64 \n",
      " 2   vuosikuukausi    828086 non-null  int64 \n",
      " 3   vuosi            828086 non-null  int64 \n",
      " 4   kunta_nro        828086 non-null  int64 \n",
      " 5   kunta_nimi       828086 non-null  object\n",
      " 6   ikaryhma         828086 non-null  object\n",
      " 7   sukupuoli        828086 non-null  object\n",
      " 8   asuinmaa         828086 non-null  object\n",
      " 9   sairauspaaryhma  828086 non-null  object\n",
      " 10  saaja_lkm        828086 non-null  int64 \n",
      "dtypes: int64(5), object(6)\n",
      "memory usage: 69.5+ MB\n"
     ]
    }
   ],
   "source": [
    "df.info()"
   ]
  },
  {
   "cell_type": "code",
   "execution_count": 3,
   "metadata": {},
   "outputs": [
    {
     "data": {
      "text/plain": [
       "aikatyyppi         False\n",
       "kuukausi_nro       False\n",
       "vuosikuukausi      False\n",
       "vuosi              False\n",
       "kunta_nro          False\n",
       "kunta_nimi         False\n",
       "ikaryhma           False\n",
       "sukupuoli          False\n",
       "asuinmaa           False\n",
       "sairauspaaryhma    False\n",
       "saaja_lkm          False\n",
       "dtype: bool"
      ]
     },
     "execution_count": 3,
     "metadata": {},
     "output_type": "execute_result"
    }
   ],
   "source": [
    "df.isnull().any()"
   ]
  },
  {
   "cell_type": "code",
   "execution_count": 4,
   "metadata": {},
   "outputs": [
    {
     "data": {
      "text/plain": [
       "Index(['aikatyyppi', 'kuukausi_nro', 'vuosikuukausi', 'vuosi', 'kunta_nro',\n",
       "       'kunta_nimi', 'ikaryhma', 'sukupuoli', 'asuinmaa', 'sairauspaaryhma',\n",
       "       'saaja_lkm'],\n",
       "      dtype='object')"
      ]
     },
     "execution_count": 4,
     "metadata": {},
     "output_type": "execute_result"
    }
   ],
   "source": [
    "df.columns"
   ]
  },
  {
   "cell_type": "code",
   "execution_count": 5,
   "metadata": {},
   "outputs": [
    {
     "data": {
      "text/plain": [
       "array([2003, 2004, 2005, 2006, 2007, 2008, 2009, 2010, 2011, 2012, 2013,\n",
       "       2014, 2015, 2016, 2017, 2018, 2019, 2020, 2021, 2022, 2023],\n",
       "      dtype=int64)"
      ]
     },
     "execution_count": 5,
     "metadata": {},
     "output_type": "execute_result"
    }
   ],
   "source": [
    "df.vuosi.sort_values().unique()"
   ]
  },
  {
   "cell_type": "code",
   "execution_count": 6,
   "metadata": {},
   "outputs": [
    {
     "data": {
      "text/plain": [
       "array(['004', '006', '015', '017', '040', '044', '045', '073', '083',\n",
       "       '084', '085', '095', '101', '150', '163', '173', '175', '180',\n",
       "       '183', '184', '210', '212', '219', '220', '223', '227', '243',\n",
       "       '246', '247', '248', '251', '252', '254', '255', '259', '262',\n",
       "       '266', '277', '279', '281', '289', '292', '293', '303', '306',\n",
       "       '308', '310', '315', '401', '406', '414', '415', '419', '424',\n",
       "       '429', '431', '439', '443', '479', '482', '485', '490', '493',\n",
       "       '501', '506', '533', '534', '537', '540', '544', '559', '567',\n",
       "       '573', '585', '586', '587', '589', '594', '602', '603', '606',\n",
       "       '617', '618', '632', '633', '640', '682', '692', '696', '699',\n",
       "       '701', '705', '708', '728', '730', '737', '741', '754', '770',\n",
       "       '772', '774', '775', '776', '784', '835', '855', '856', '863',\n",
       "       '864', '885', '891', '906', '909', '912', '913', '916', '919',\n",
       "       '920', '923', '926', '928', '932', '933', '937', '940', '942',\n",
       "       '943', '944', '945', '971', '972', '973', '975', '978', '979',\n",
       "       '988', 'Akaa', 'Alajärvi', 'Alavieska', 'Alavus', 'Asikkala',\n",
       "       'Askola', 'Aura', 'Brändö', 'Eckerö', 'Enonkoski', 'Enontekiö',\n",
       "       'Espoo', 'Eura', 'Eurajoki', 'Evijärvi', 'Finström', 'Forssa',\n",
       "       'Föglö', 'Geta', 'Haapajärvi', 'Haapavesi', 'Hailuoto', 'Halsua',\n",
       "       'Hamina', 'Hammarland', 'Hankasalmi', 'Hanko', 'Harjavalta',\n",
       "       'Hartola', 'Hattula', 'Hausjärvi', 'Heinola', 'Heinävesi',\n",
       "       'Helsinki', 'Hirvensalmi', 'Hollola', 'Honkajoki', 'Huittinen',\n",
       "       'Humppila', 'Hyrynsalmi', 'Hyvinkää', 'Hämeenkoski', 'Hämeenkyrö',\n",
       "       'Hämeenlinna', 'Ii', 'Iisalmi', 'Iitti', 'Ikaalinen', 'Ilmajoki',\n",
       "       'Ilomantsi', 'Imatra', 'Inari', 'Inkoo', 'Isojoki', 'Isokyrö',\n",
       "       'Jalasjärvi', 'Janakkala', 'Joensuu', 'Jokioinen', 'Jomala',\n",
       "       'Joroinen', 'Joutsa', 'Juankoski', 'Juuka', 'Juupajoki', 'Juva',\n",
       "       'Jyväskylä', 'Jämijärvi', 'Jämsä', 'Järvenpää', 'Kaarina', 'Kaavi',\n",
       "       'Kajaani', 'Kalajoki', 'Kangasala', 'Kangasniemi', 'Kankaanpää',\n",
       "       'Kannonkoski', 'Kannus', 'Karijoki', 'Karkkila', 'Karstula',\n",
       "       'Karvia', 'Kaskinen', 'Kauhajoki', 'Kauhava', 'Kauniainen',\n",
       "       'Kaustinen', 'Keitele', 'Kemi', 'Kemijärvi', 'Keminmaa',\n",
       "       'Kemiönsaari', 'Kempele', 'Kerava', 'Keuruu', 'Kihniö', 'Kinnula',\n",
       "       'Kirkkonummi', 'Kitee', 'Kittilä', 'Kiuruvesi', 'Kivijärvi',\n",
       "       'Kokemäki', 'Kokkola', 'Kolari', 'Konnevesi', 'Kontiolahti',\n",
       "       'Korsnäs', 'Koski Tl', 'Kotka', 'Kouvola', 'Kristiinankaupunki',\n",
       "       'Kruunupyy', 'Kuhmo', 'Kuhmoinen', 'Kumlinge', 'Kuopio',\n",
       "       'Kuortane', 'Kurikka', 'Kustavi', 'Kuusamo', 'Kyyjärvi', 'Kärkölä',\n",
       "       'Kärsämäki', 'Kökar', 'Köyliö', 'Lahti', 'Laihia', 'Laitila',\n",
       "       'Lapinjärvi', 'Lapinlahti', 'Lappajärvi', 'Lappeenranta', 'Lapua',\n",
       "       'Laukaa', 'Lavia', 'Lemi', 'Lemland', 'Lempäälä', 'Leppävirta',\n",
       "       'Lestijärvi', 'Lieksa', 'Lieto', 'Liminka', 'Liperi', 'Lohja',\n",
       "       'Loimaa', 'Loppi', 'Loviisa', 'Luhanka', 'Lumijoki', 'Lumparland',\n",
       "       'Luoto', 'Luumäki', 'Luvia', 'Maalahti', 'Maaninka',\n",
       "       'Maarianhamina', 'Marttila', 'Masku', 'Merijärvi', 'Merikarvia',\n",
       "       'Miehikkälä', 'Mikkeli', 'Muhos', 'Multia', 'Muonio', 'Mustasaari',\n",
       "       'Muurame', 'Mynämäki', 'Myrskylä', 'Mäntsälä', 'Mänttä-Vilppula',\n",
       "       'Mäntyharju', 'Naantali', 'Nakkila', 'Nastola', 'Nivala', 'Nokia',\n",
       "       'Nousiainen', 'Nurmes', 'Nurmijärvi', 'Närpiö', 'Orimattila',\n",
       "       'Oripää', 'Orivesi', 'Oulainen', 'Oulu', 'Outokumpu', 'Padasjoki',\n",
       "       'Paimio', 'Paltamo', 'Parainen', 'Parikkala', 'Parkano',\n",
       "       'Pedersören kunta', 'Pelkosenniemi', 'Pello', 'Perho', 'Pertunmaa',\n",
       "       'Petäjävesi', 'Pieksämäki', 'Pielavesi', 'Pietarsaari',\n",
       "       'Pihtipudas', 'Pirkkala', 'Polvijärvi', 'Pomarkku', 'Pori',\n",
       "       'Pornainen', 'Porvoo', 'Posio', 'Pudasjärvi', 'Pukkila',\n",
       "       'Punkalaidun', 'Puolanka', 'Puumala', 'Pyhtää', 'Pyhäjoki',\n",
       "       'Pyhäjärvi', 'Pyhäntä', 'Pyhäranta', 'Pälkäne', 'Pöytyä', 'Raahe',\n",
       "       'Raasepori', 'Raisio', 'Rantasalmi', 'Ranua', 'Rauma',\n",
       "       'Rautalampi', 'Rautavaara', 'Rautjärvi', 'Reisjärvi', 'Riihimäki',\n",
       "       'Ristijärvi', 'Rovaniemi', 'Ruokolahti', 'Ruovesi', 'Rusko',\n",
       "       'Rääkkylä', 'Saarijärvi', 'Salla', 'Salo', 'Saltvik', 'Sastamala',\n",
       "       'Sauvo', 'Savitaipale', 'Savonlinna', 'Savukoski', 'Seinäjoki',\n",
       "       'Sievi', 'Siikainen', 'Siikajoki', 'Siikalatva', 'Siilinjärvi',\n",
       "       'Simo', 'Sipoo', 'Siuntio', 'Sodankylä', 'Soini', 'Somero',\n",
       "       'Sonkajärvi', 'Sotkamo', 'Sulkava', 'Sund', 'Suomussalmi',\n",
       "       'Suonenjoki', 'Sysmä', 'Säkylä', 'Taipalsaari', 'Taivalkoski',\n",
       "       'Taivassalo', 'Tammela', 'Tampere', 'Tarvasjoki', 'Tervo',\n",
       "       'Tervola', 'Teuva', 'Tohmajärvi', 'Toholampi', 'Toivakka',\n",
       "       'Tornio', 'Tuntematon', 'Turku', 'Tuusniemi', 'Tuusula', 'Tyrnävä',\n",
       "       'Ulvila', 'Urjala', 'Utajärvi', 'Utsjoki', 'Uurainen',\n",
       "       'Uusikaarlepyy', 'Uusikaupunki', 'Vaala', 'Vaasa', 'Valkeakoski',\n",
       "       'Valtimo', 'Vantaa', 'Varkaus', 'Vehmaa', 'Vesanto', 'Vesilahti',\n",
       "       'Veteli', 'Vieremä', 'Vihti', 'Viitasaari', 'Vimpeli', 'Virolahti',\n",
       "       'Virrat', 'Vårdö', 'Vöyri', 'Ylitornio', 'Ylivieska', 'Ylöjärvi',\n",
       "       'Ypäjä', 'Ähtäri', 'Äänekoski'], dtype=object)"
      ]
     },
     "execution_count": 6,
     "metadata": {},
     "output_type": "execute_result"
    }
   ],
   "source": [
    "df.kunta_nimi.sort_values().unique()"
   ]
  },
  {
   "cell_type": "markdown",
   "metadata": {},
   "source": [
    "!***Täydennettävät tiedot:*** Koordinaatit, kunnat, kunta numerot."
   ]
  },
  {
   "cell_type": "markdown",
   "metadata": {},
   "source": [
    "***Puuttuvien arvojen prosenttiosuus:***"
   ]
  },
  {
   "cell_type": "code",
   "execution_count": 7,
   "metadata": {},
   "outputs": [
    {
     "data": {
      "text/plain": [
       "aikatyyppi         0.0\n",
       "kuukausi_nro       0.0\n",
       "vuosikuukausi      0.0\n",
       "vuosi              0.0\n",
       "kunta_nro          0.0\n",
       "kunta_nimi         0.0\n",
       "ikaryhma           0.0\n",
       "sukupuoli          0.0\n",
       "asuinmaa           0.0\n",
       "sairauspaaryhma    0.0\n",
       "saaja_lkm          0.0\n",
       "dtype: float64"
      ]
     },
     "execution_count": 7,
     "metadata": {},
     "output_type": "execute_result"
    }
   ],
   "source": [
    "(df.isnull().sum()/ len(df))*100\n"
   ]
  }
 ],
 "metadata": {
  "kernelspec": {
   "display_name": "base",
   "language": "python",
   "name": "python3"
  },
  "language_info": {
   "codemirror_mode": {
    "name": "ipython",
    "version": 3
   },
   "file_extension": ".py",
   "mimetype": "text/x-python",
   "name": "python",
   "nbconvert_exporter": "python",
   "pygments_lexer": "ipython3",
   "version": "3.12.1"
  }
 },
 "nbformat": 4,
 "nbformat_minor": 2
}
