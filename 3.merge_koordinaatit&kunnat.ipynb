{
 "cells": [
  {
   "cell_type": "markdown",
   "metadata": {},
   "source": [
    "# ***3.merge1_koordinaatit&kunnat*** \n",
    "1. _wiki-Luettelo-Suomen-kunnista_clean.ipnyb \n",
    "    1. _wiki-Luettelo-Suomen-kunnista_clean.csv\n",
    "1. _wiki-Luettelo-Suomen-kuntien-koordinaateista_clean.ipnyb\n",
    "    1. _wiki-Luettelo-Suomen-kuntien-koordinaateista_clean.csv\n",
    "\n",
    "\n",
    "***[OUT: 1.merge_koordinaatit&kunnat.csv]***"
   ]
  },
  {
   "cell_type": "code",
   "execution_count": 1,
   "metadata": {},
   "outputs": [],
   "source": [
    "import pandas as pd \n",
    "\n",
    "dx = pd.read_csv(\"clean/_wiki-Luettelo-Suomen-kuntien-koordinaateista_clean.csv\")\n",
    "dy = pd.read_csv(\"clean/_wiki-Luettelo-Suomen-kunnista_clean.csv\")"
   ]
  },
  {
   "cell_type": "code",
   "execution_count": 2,
   "metadata": {},
   "outputs": [
    {
     "data": {
      "text/plain": [
       "(311, 311)"
      ]
     },
     "execution_count": 2,
     "metadata": {},
     "output_type": "execute_result"
    }
   ],
   "source": [
    "dx.kunta_nimi.nunique(), dy.kunta_nimi.nunique() "
   ]
  },
  {
   "cell_type": "code",
   "execution_count": 3,
   "metadata": {},
   "outputs": [
    {
     "data": {
      "text/html": [
       "<div>\n",
       "<style scoped>\n",
       "    .dataframe tbody tr th:only-of-type {\n",
       "        vertical-align: middle;\n",
       "    }\n",
       "\n",
       "    .dataframe tbody tr th {\n",
       "        vertical-align: top;\n",
       "    }\n",
       "\n",
       "    .dataframe thead th {\n",
       "        text-align: right;\n",
       "    }\n",
       "</style>\n",
       "<table border=\"1\" class=\"dataframe\">\n",
       "  <thead>\n",
       "    <tr style=\"text-align: right;\">\n",
       "      <th></th>\n",
       "      <th>kunta_nro</th>\n",
       "      <th>kunta_nimi</th>\n",
       "      <th>Maakunta</th>\n",
       "      <th>latitude</th>\n",
       "      <th>longitude</th>\n",
       "    </tr>\n",
       "  </thead>\n",
       "  <tbody>\n",
       "    <tr>\n",
       "      <th>0</th>\n",
       "      <td>20</td>\n",
       "      <td>Akaa</td>\n",
       "      <td>Pirkanmaa</td>\n",
       "      <td>61.167146</td>\n",
       "      <td>23.865889</td>\n",
       "    </tr>\n",
       "    <tr>\n",
       "      <th>1</th>\n",
       "      <td>5</td>\n",
       "      <td>Alajärvi</td>\n",
       "      <td>Etelä-Pohjanmaa</td>\n",
       "      <td>63.001273</td>\n",
       "      <td>23.817523</td>\n",
       "    </tr>\n",
       "    <tr>\n",
       "      <th>2</th>\n",
       "      <td>9</td>\n",
       "      <td>Alavieska</td>\n",
       "      <td>Pohjois-Pohjanmaa</td>\n",
       "      <td>64.166646</td>\n",
       "      <td>24.307213</td>\n",
       "    </tr>\n",
       "    <tr>\n",
       "      <th>3</th>\n",
       "      <td>10</td>\n",
       "      <td>Alavus</td>\n",
       "      <td>Etelä-Pohjanmaa</td>\n",
       "      <td>62.586162</td>\n",
       "      <td>23.616601</td>\n",
       "    </tr>\n",
       "    <tr>\n",
       "      <th>4</th>\n",
       "      <td>16</td>\n",
       "      <td>Asikkala</td>\n",
       "      <td>Päijät-Häme</td>\n",
       "      <td>61.172512</td>\n",
       "      <td>25.549142</td>\n",
       "    </tr>\n",
       "    <tr>\n",
       "      <th>...</th>\n",
       "      <td>...</td>\n",
       "      <td>...</td>\n",
       "      <td>...</td>\n",
       "      <td>...</td>\n",
       "      <td>...</td>\n",
       "    </tr>\n",
       "    <tr>\n",
       "      <th>306</th>\n",
       "      <td>977</td>\n",
       "      <td>Ylivieska</td>\n",
       "      <td>Pohjois-Pohjanmaa</td>\n",
       "      <td>64.072284</td>\n",
       "      <td>24.533690</td>\n",
       "    </tr>\n",
       "    <tr>\n",
       "      <th>307</th>\n",
       "      <td>980</td>\n",
       "      <td>Ylöjärvi</td>\n",
       "      <td>Pirkanmaa</td>\n",
       "      <td>61.557156</td>\n",
       "      <td>23.596580</td>\n",
       "    </tr>\n",
       "    <tr>\n",
       "      <th>308</th>\n",
       "      <td>981</td>\n",
       "      <td>Ypäjä</td>\n",
       "      <td>Kanta-Häme</td>\n",
       "      <td>60.805228</td>\n",
       "      <td>23.272438</td>\n",
       "    </tr>\n",
       "    <tr>\n",
       "      <th>309</th>\n",
       "      <td>989</td>\n",
       "      <td>Ähtäri</td>\n",
       "      <td>Etelä-Pohjanmaa</td>\n",
       "      <td>62.552859</td>\n",
       "      <td>24.075018</td>\n",
       "    </tr>\n",
       "    <tr>\n",
       "      <th>310</th>\n",
       "      <td>992</td>\n",
       "      <td>Äänekoski</td>\n",
       "      <td>Keski-Suomi</td>\n",
       "      <td>62.603307</td>\n",
       "      <td>25.724831</td>\n",
       "    </tr>\n",
       "  </tbody>\n",
       "</table>\n",
       "<p>311 rows × 5 columns</p>\n",
       "</div>"
      ],
      "text/plain": [
       "     kunta_nro kunta_nimi           Maakunta   latitude  longitude\n",
       "0           20       Akaa          Pirkanmaa  61.167146  23.865889\n",
       "1            5   Alajärvi    Etelä-Pohjanmaa  63.001273  23.817523\n",
       "2            9  Alavieska  Pohjois-Pohjanmaa  64.166646  24.307213\n",
       "3           10     Alavus    Etelä-Pohjanmaa  62.586162  23.616601\n",
       "4           16   Asikkala        Päijät-Häme  61.172512  25.549142\n",
       "..         ...        ...                ...        ...        ...\n",
       "306        977  Ylivieska  Pohjois-Pohjanmaa  64.072284  24.533690\n",
       "307        980   Ylöjärvi          Pirkanmaa  61.557156  23.596580\n",
       "308        981      Ypäjä         Kanta-Häme  60.805228  23.272438\n",
       "309        989     Ähtäri    Etelä-Pohjanmaa  62.552859  24.075018\n",
       "310        992  Äänekoski        Keski-Suomi  62.603307  25.724831\n",
       "\n",
       "[311 rows x 5 columns]"
      ]
     },
     "execution_count": 3,
     "metadata": {},
     "output_type": "execute_result"
    }
   ],
   "source": [
    "dxdy = dy.merge(dx, on='kunta_nimi', how=\"left\")\n",
    "dxdy"
   ]
  },
  {
   "cell_type": "markdown",
   "metadata": {},
   "source": [
    "***Puuttuvien arvojen prosenttiosuus:***"
   ]
  },
  {
   "cell_type": "code",
   "execution_count": 4,
   "metadata": {},
   "outputs": [
    {
     "data": {
      "text/plain": [
       "kunta_nro     0.0\n",
       "kunta_nimi    0.0\n",
       "Maakunta      0.0\n",
       "latitude      0.0\n",
       "longitude     0.0\n",
       "dtype: float64"
      ]
     },
     "execution_count": 4,
     "metadata": {},
     "output_type": "execute_result"
    }
   ],
   "source": [
    "(dxdy.isnull().sum()/ len(dxdy))*100"
   ]
  },
  {
   "cell_type": "code",
   "execution_count": 5,
   "metadata": {},
   "outputs": [],
   "source": [
    "dxdy.to_csv(\"merge/merge1_koordinaatit&kunnat.csv\", index=False)"
   ]
  }
 ],
 "metadata": {
  "kernelspec": {
   "display_name": "Python 3",
   "language": "python",
   "name": "python3"
  },
  "language_info": {
   "codemirror_mode": {
    "name": "ipython",
    "version": 3
   },
   "file_extension": ".py",
   "mimetype": "text/x-python",
   "name": "python",
   "nbconvert_exporter": "python",
   "pygments_lexer": "ipython3",
   "version": "3.11.7"
  }
 },
 "nbformat": 4,
 "nbformat_minor": 2
}
