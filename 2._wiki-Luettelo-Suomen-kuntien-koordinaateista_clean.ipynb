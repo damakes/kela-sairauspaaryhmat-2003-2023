{
 "cells": [
  {
   "cell_type": "markdown",
   "metadata": {},
   "source": [
    "# ***2._wiki-Luettelo-Suomen-kuntien-koordinaateista_clean***\n",
    "\n",
    "1. Suomen kuntien koordinaatit, WGS84. 1.1.1987. \n",
    "    1. *Tiedosto*: '_wiki-Luettelo-Suomen-kuntien-koordinaateista.csv'\n",
    "    1. *Verkkolähde*: https://fi.wikipedia.org/wiki/Luettelo_Suomen_kuntien_koordinaateista\n",
    "\n",
    "\n",
    "***[OUT: _wiki-Luettelo-Suomen-kuntien-koordinaateista_clean.csv]***"
   ]
  },
  {
   "cell_type": "code",
   "execution_count": 1,
   "metadata": {},
   "outputs": [
    {
     "data": {
      "text/html": [
       "<div>\n",
       "<style scoped>\n",
       "    .dataframe tbody tr th:only-of-type {\n",
       "        vertical-align: middle;\n",
       "    }\n",
       "\n",
       "    .dataframe tbody tr th {\n",
       "        vertical-align: top;\n",
       "    }\n",
       "\n",
       "    .dataframe thead th {\n",
       "        text-align: right;\n",
       "    }\n",
       "</style>\n",
       "<table border=\"1\" class=\"dataframe\">\n",
       "  <thead>\n",
       "    <tr style=\"text-align: right;\">\n",
       "      <th></th>\n",
       "      <th>Kunta</th>\n",
       "      <th>Koordinaatit</th>\n",
       "    </tr>\n",
       "  </thead>\n",
       "  <tbody>\n",
       "    <tr>\n",
       "      <th>0</th>\n",
       "      <td>Akaa</td>\n",
       "      <td>61.167145977°N, 23.865888764°E</td>\n",
       "    </tr>\n",
       "    <tr>\n",
       "      <th>1</th>\n",
       "      <td>Alajärvi</td>\n",
       "      <td>63.001273254°N, 23.817522812°E</td>\n",
       "    </tr>\n",
       "    <tr>\n",
       "      <th>2</th>\n",
       "      <td>Alavieska</td>\n",
       "      <td>64.166646246°N, 24.307213479°E</td>\n",
       "    </tr>\n",
       "    <tr>\n",
       "      <th>3</th>\n",
       "      <td>Alavus</td>\n",
       "      <td>62.586161997°N, 23.616600589°E</td>\n",
       "    </tr>\n",
       "    <tr>\n",
       "      <th>4</th>\n",
       "      <td>Asikkala</td>\n",
       "      <td>61.172512361°N, 25.549142484°E</td>\n",
       "    </tr>\n",
       "    <tr>\n",
       "      <th>...</th>\n",
       "      <td>...</td>\n",
       "      <td>...</td>\n",
       "    </tr>\n",
       "    <tr>\n",
       "      <th>306</th>\n",
       "      <td>Ylivieska</td>\n",
       "      <td>64.072284496°N, 24.533690188°E</td>\n",
       "    </tr>\n",
       "    <tr>\n",
       "      <th>307</th>\n",
       "      <td>Ylöjärvi</td>\n",
       "      <td>61.557156020°N, 23.596580124°E</td>\n",
       "    </tr>\n",
       "    <tr>\n",
       "      <th>308</th>\n",
       "      <td>Ypäjä</td>\n",
       "      <td>60.805227741°N, 23.272438379°E</td>\n",
       "    </tr>\n",
       "    <tr>\n",
       "      <th>309</th>\n",
       "      <td>Ähtäri</td>\n",
       "      <td>62.552859290°N, 24.075018434°E</td>\n",
       "    </tr>\n",
       "    <tr>\n",
       "      <th>310</th>\n",
       "      <td>Äänekoski</td>\n",
       "      <td>62.603307432°N, 25.724831350°E</td>\n",
       "    </tr>\n",
       "  </tbody>\n",
       "</table>\n",
       "<p>311 rows × 2 columns</p>\n",
       "</div>"
      ],
      "text/plain": [
       "         Kunta                    Koordinaatit\n",
       "0         Akaa  61.167145977°N, 23.865888764°E\n",
       "1     Alajärvi  63.001273254°N, 23.817522812°E\n",
       "2    Alavieska  64.166646246°N, 24.307213479°E\n",
       "3       Alavus  62.586161997°N, 23.616600589°E\n",
       "4     Asikkala  61.172512361°N, 25.549142484°E\n",
       "..         ...                             ...\n",
       "306  Ylivieska  64.072284496°N, 24.533690188°E\n",
       "307   Ylöjärvi  61.557156020°N, 23.596580124°E\n",
       "308      Ypäjä  60.805227741°N, 23.272438379°E\n",
       "309     Ähtäri  62.552859290°N, 24.075018434°E\n",
       "310  Äänekoski  62.603307432°N, 25.724831350°E\n",
       "\n",
       "[311 rows x 2 columns]"
      ]
     },
     "execution_count": 1,
     "metadata": {},
     "output_type": "execute_result"
    }
   ],
   "source": [
    "import pandas as pd \n",
    "\n",
    "kunnat = pd.read_csv('raw/_wiki-Luettelo-Suomen-kuntien-koordinaateista.csv', delimiter='\\t')\n",
    "kunnat"
   ]
  },
  {
   "cell_type": "markdown",
   "metadata": {},
   "source": [
    "***Muunnetaan koordinaatit DMS muodosta DD muotoon***"
   ]
  },
  {
   "cell_type": "code",
   "execution_count": 2,
   "metadata": {},
   "outputs": [
    {
     "data": {
      "text/html": [
       "<div>\n",
       "<style scoped>\n",
       "    .dataframe tbody tr th:only-of-type {\n",
       "        vertical-align: middle;\n",
       "    }\n",
       "\n",
       "    .dataframe tbody tr th {\n",
       "        vertical-align: top;\n",
       "    }\n",
       "\n",
       "    .dataframe thead th {\n",
       "        text-align: right;\n",
       "    }\n",
       "</style>\n",
       "<table border=\"1\" class=\"dataframe\">\n",
       "  <thead>\n",
       "    <tr style=\"text-align: right;\">\n",
       "      <th></th>\n",
       "      <th>Kunta</th>\n",
       "      <th>Koordinaatit</th>\n",
       "      <th>latitude</th>\n",
       "      <th>longitude</th>\n",
       "    </tr>\n",
       "  </thead>\n",
       "  <tbody>\n",
       "    <tr>\n",
       "      <th>0</th>\n",
       "      <td>Akaa</td>\n",
       "      <td>61.167145977°N, 23.865888764°E</td>\n",
       "      <td>61.167146</td>\n",
       "      <td>23.865889</td>\n",
       "    </tr>\n",
       "    <tr>\n",
       "      <th>1</th>\n",
       "      <td>Alajärvi</td>\n",
       "      <td>63.001273254°N, 23.817522812°E</td>\n",
       "      <td>63.001273</td>\n",
       "      <td>23.817523</td>\n",
       "    </tr>\n",
       "    <tr>\n",
       "      <th>2</th>\n",
       "      <td>Alavieska</td>\n",
       "      <td>64.166646246°N, 24.307213479°E</td>\n",
       "      <td>64.166646</td>\n",
       "      <td>24.307213</td>\n",
       "    </tr>\n",
       "    <tr>\n",
       "      <th>3</th>\n",
       "      <td>Alavus</td>\n",
       "      <td>62.586161997°N, 23.616600589°E</td>\n",
       "      <td>62.586162</td>\n",
       "      <td>23.616601</td>\n",
       "    </tr>\n",
       "    <tr>\n",
       "      <th>4</th>\n",
       "      <td>Asikkala</td>\n",
       "      <td>61.172512361°N, 25.549142484°E</td>\n",
       "      <td>61.172512</td>\n",
       "      <td>25.549142</td>\n",
       "    </tr>\n",
       "  </tbody>\n",
       "</table>\n",
       "</div>"
      ],
      "text/plain": [
       "       Kunta                    Koordinaatit   latitude  longitude\n",
       "0       Akaa  61.167145977°N, 23.865888764°E  61.167146  23.865889\n",
       "1   Alajärvi  63.001273254°N, 23.817522812°E  63.001273  23.817523\n",
       "2  Alavieska  64.166646246°N, 24.307213479°E  64.166646  24.307213\n",
       "3     Alavus  62.586161997°N, 23.616600589°E  62.586162  23.616601\n",
       "4   Asikkala  61.172512361°N, 25.549142484°E  61.172512  25.549142"
      ]
     },
     "execution_count": 2,
     "metadata": {},
     "output_type": "execute_result"
    }
   ],
   "source": [
    "def convert_to_decimal(coord):\n",
    "    coord = coord.replace('°N', '').replace('°E', '').replace('°', '').replace(',', '.').strip()\n",
    "    return float(coord)\n",
    "\n",
    "kunnat['latitude'] = kunnat['Koordinaatit'].apply(lambda x: convert_to_decimal(x.split(',')[0]))\n",
    "kunnat['longitude'] = kunnat['Koordinaatit'].apply(lambda x: convert_to_decimal(x.split(',')[1]))\n",
    "\n",
    "kunnat.head()"
   ]
  },
  {
   "cell_type": "markdown",
   "metadata": {},
   "source": [
    "***Huomioidaan muuttujien nimet tiedostojen yhdistämisen helpottamiseksi:***"
   ]
  },
  {
   "cell_type": "code",
   "execution_count": 3,
   "metadata": {},
   "outputs": [],
   "source": [
    "kunnat = kunnat.rename(columns= {'Kunta':'kunta_nimi'})"
   ]
  },
  {
   "cell_type": "markdown",
   "metadata": {},
   "source": [
    "***Puuttuvien arvojen prosenttiosuus:***"
   ]
  },
  {
   "cell_type": "code",
   "execution_count": 4,
   "metadata": {},
   "outputs": [
    {
     "data": {
      "text/plain": [
       "kunta_nimi      0.0\n",
       "Koordinaatit    0.0\n",
       "latitude        0.0\n",
       "longitude       0.0\n",
       "dtype: float64"
      ]
     },
     "execution_count": 4,
     "metadata": {},
     "output_type": "execute_result"
    }
   ],
   "source": [
    "missing_percents = (kunnat.isnull().sum()/ len(kunnat))*100\n",
    "missing_percents"
   ]
  },
  {
   "cell_type": "markdown",
   "metadata": {},
   "source": [
    "***Tallennetaan uutena tiedostona:***"
   ]
  },
  {
   "cell_type": "code",
   "execution_count": 5,
   "metadata": {},
   "outputs": [],
   "source": [
    "kunnat[['kunta_nimi', 'latitude', 'longitude']].to_csv('clean/_wiki-Luettelo-Suomen-kuntien-koordinaateista_clean.csv', index=False)"
   ]
  }
 ],
 "metadata": {
  "kernelspec": {
   "display_name": "Python 3",
   "language": "python",
   "name": "python3"
  },
  "language_info": {
   "codemirror_mode": {
    "name": "ipython",
    "version": 3
   },
   "file_extension": ".py",
   "mimetype": "text/x-python",
   "name": "python",
   "nbconvert_exporter": "python",
   "pygments_lexer": "ipython3",
   "version": "3.12.1"
  }
 },
 "nbformat": 4,
 "nbformat_minor": 2
}
